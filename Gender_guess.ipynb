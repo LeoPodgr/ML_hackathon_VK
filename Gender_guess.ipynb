{
 "cells": [
  {
   "cell_type": "markdown",
   "metadata": {},
   "source": [
    "## Preprocess train data"
   ]
  },
  {
   "cell_type": "code",
   "execution_count": 1,
   "metadata": {
    "id": "GGns0xfx7Dgf"
   },
   "outputs": [],
   "source": [
    "import pandas as pd\n",
    "from sklearn.preprocessing import LabelEncoder\n",
    "from matplotlib import pyplot as plt\n",
    "from sklearn.model_selection import train_test_split\n",
    "from sklearn.naive_bayes import GaussianNB\n",
    "from sklearn.linear_model import LogisticRegression\n",
    "from sklearn.tree import DecisionTreeClassifier\n",
    "from sklearn.model_selection import train_test_split\n",
    "from sklearn.ensemble import AdaBoostClassifier\n",
    "from sklearn.decomposition import PCA\n",
    "from sklearn.preprocessing import StandardScaler"
   ]
  },
  {
   "cell_type": "code",
   "execution_count": 2,
   "metadata": {
    "id": "g1W2AU0q7YE9"
   },
   "outputs": [],
   "source": [
    "df = pd.read_csv('train.csv', delimiter=';').drop_duplicates()\n",
    "sex_labels = pd.read_csv('train_labels.csv', delimiter=';').drop_duplicates()\n",
    "df = df.join(sex_labels.set_index('user_id'), on='user_id', how='inner')\n",
    "del sex_labels"
   ]
  },
  {
   "cell_type": "code",
   "execution_count": 3,
   "metadata": {
    "colab": {
     "base_uri": "https://localhost:8080/"
    },
    "id": "vY8Rzfl6ZeWN",
    "outputId": "13226bc2-a834-422b-f45d-6aaa55b75e34"
   },
   "outputs": [
    {
     "data": {
      "text/plain": [
       "(591836, 6)"
      ]
     },
     "execution_count": 3,
     "metadata": {},
     "output_type": "execute_result"
    }
   ],
   "source": [
    "df.shape"
   ]
  },
  {
   "cell_type": "code",
   "execution_count": 4,
   "metadata": {
    "colab": {
     "base_uri": "https://localhost:8080/",
     "height": 206
    },
    "id": "nd8DGT3B94js",
    "outputId": "093da0f1-8314-492b-cb0c-e46db5041fe9"
   },
   "outputs": [
    {
     "data": {
      "text/html": [
       "<div>\n",
       "<style scoped>\n",
       "    .dataframe tbody tr th:only-of-type {\n",
       "        vertical-align: middle;\n",
       "    }\n",
       "\n",
       "    .dataframe tbody tr th {\n",
       "        vertical-align: top;\n",
       "    }\n",
       "\n",
       "    .dataframe thead th {\n",
       "        text-align: right;\n",
       "    }\n",
       "</style>\n",
       "<table border=\"1\" class=\"dataframe\">\n",
       "  <thead>\n",
       "    <tr style=\"text-align: right;\">\n",
       "      <th></th>\n",
       "      <th>request_ts</th>\n",
       "      <th>user_id</th>\n",
       "      <th>referer</th>\n",
       "      <th>geo_id</th>\n",
       "      <th>user_agent</th>\n",
       "      <th>target</th>\n",
       "    </tr>\n",
       "  </thead>\n",
       "  <tbody>\n",
       "    <tr>\n",
       "      <th>0</th>\n",
       "      <td>1701011363</td>\n",
       "      <td>fb858e8e0a2bec074450eaf94b627fd3</td>\n",
       "      <td>https://9b48ee5/</td>\n",
       "      <td>4799</td>\n",
       "      <td>{'browser': 'Chrome Mobile', 'browser_version'...</td>\n",
       "      <td>0</td>\n",
       "    </tr>\n",
       "    <tr>\n",
       "      <th>1</th>\n",
       "      <td>1700986581</td>\n",
       "      <td>46a5f128fd569c764a92c2eaa788095e</td>\n",
       "      <td>https://9b48ee5/</td>\n",
       "      <td>8257</td>\n",
       "      <td>{'browser': 'Chrome Mobile', 'browser_version'...</td>\n",
       "      <td>0</td>\n",
       "    </tr>\n",
       "    <tr>\n",
       "      <th>2</th>\n",
       "      <td>1701011071</td>\n",
       "      <td>5a74e9ac53ffb21a20cce117c0ad77ba</td>\n",
       "      <td>https://9634fd0/1409e548</td>\n",
       "      <td>3150</td>\n",
       "      <td>{'browser': 'Yandex Browser', 'browser_version...</td>\n",
       "      <td>0</td>\n",
       "    </tr>\n",
       "    <tr>\n",
       "      <th>3</th>\n",
       "      <td>1700992803</td>\n",
       "      <td>af735816ca19115431ae3d89518c8c91</td>\n",
       "      <td>https://9b48ee5/</td>\n",
       "      <td>2740</td>\n",
       "      <td>{'browser': 'Chrome Mobile', 'browser_version'...</td>\n",
       "      <td>0</td>\n",
       "    </tr>\n",
       "    <tr>\n",
       "      <th>4</th>\n",
       "      <td>1701021666</td>\n",
       "      <td>364f0ae0a3f29a685c4fb5bae6033b9a</td>\n",
       "      <td>https://9b48ee5/</td>\n",
       "      <td>4863</td>\n",
       "      <td>{'browser': 'Yandex Browser', 'browser_version...</td>\n",
       "      <td>0</td>\n",
       "    </tr>\n",
       "  </tbody>\n",
       "</table>\n",
       "</div>"
      ],
      "text/plain": [
       "   request_ts                           user_id                   referer  \\\n",
       "0  1701011363  fb858e8e0a2bec074450eaf94b627fd3          https://9b48ee5/   \n",
       "1  1700986581  46a5f128fd569c764a92c2eaa788095e          https://9b48ee5/   \n",
       "2  1701011071  5a74e9ac53ffb21a20cce117c0ad77ba  https://9634fd0/1409e548   \n",
       "3  1700992803  af735816ca19115431ae3d89518c8c91          https://9b48ee5/   \n",
       "4  1701021666  364f0ae0a3f29a685c4fb5bae6033b9a          https://9b48ee5/   \n",
       "\n",
       "   geo_id                                         user_agent  target  \n",
       "0    4799  {'browser': 'Chrome Mobile', 'browser_version'...       0  \n",
       "1    8257  {'browser': 'Chrome Mobile', 'browser_version'...       0  \n",
       "2    3150  {'browser': 'Yandex Browser', 'browser_version...       0  \n",
       "3    2740  {'browser': 'Chrome Mobile', 'browser_version'...       0  \n",
       "4    4863  {'browser': 'Yandex Browser', 'browser_version...       0  "
      ]
     },
     "execution_count": 4,
     "metadata": {},
     "output_type": "execute_result"
    }
   ],
   "source": [
    "df.head()"
   ]
  },
  {
   "cell_type": "code",
   "execution_count": 5,
   "metadata": {
    "id": "1f_NavlEAC5z"
   },
   "outputs": [],
   "source": [
    "geo_id = pd.read_csv('geo_info.csv', delimiter=';')"
   ]
  },
  {
   "cell_type": "code",
   "execution_count": 6,
   "metadata": {
    "colab": {
     "base_uri": "https://localhost:8080/",
     "height": 206
    },
    "id": "ug6_1KrhAIsl",
    "outputId": "d9a0ec6e-eba8-49ee-9f0d-fe695f3f88a2"
   },
   "outputs": [
    {
     "data": {
      "text/html": [
       "<div>\n",
       "<style scoped>\n",
       "    .dataframe tbody tr th:only-of-type {\n",
       "        vertical-align: middle;\n",
       "    }\n",
       "\n",
       "    .dataframe tbody tr th {\n",
       "        vertical-align: top;\n",
       "    }\n",
       "\n",
       "    .dataframe thead th {\n",
       "        text-align: right;\n",
       "    }\n",
       "</style>\n",
       "<table border=\"1\" class=\"dataframe\">\n",
       "  <thead>\n",
       "    <tr style=\"text-align: right;\">\n",
       "      <th></th>\n",
       "      <th>geo_id</th>\n",
       "      <th>country_id</th>\n",
       "      <th>region_id</th>\n",
       "      <th>timezone_id</th>\n",
       "    </tr>\n",
       "  </thead>\n",
       "  <tbody>\n",
       "    <tr>\n",
       "      <th>0</th>\n",
       "      <td>6447</td>\n",
       "      <td>c31b4e</td>\n",
       "      <td>470e75</td>\n",
       "      <td>f6155e</td>\n",
       "    </tr>\n",
       "    <tr>\n",
       "      <th>1</th>\n",
       "      <td>8730</td>\n",
       "      <td>a0a6e9</td>\n",
       "      <td>NaN</td>\n",
       "      <td>d816ca</td>\n",
       "    </tr>\n",
       "    <tr>\n",
       "      <th>2</th>\n",
       "      <td>7769</td>\n",
       "      <td>e878d4</td>\n",
       "      <td>NaN</td>\n",
       "      <td>ec4385</td>\n",
       "    </tr>\n",
       "    <tr>\n",
       "      <th>3</th>\n",
       "      <td>7330</td>\n",
       "      <td>c31b4e</td>\n",
       "      <td>23f9c2</td>\n",
       "      <td>f6155e</td>\n",
       "    </tr>\n",
       "    <tr>\n",
       "      <th>4</th>\n",
       "      <td>600</td>\n",
       "      <td>c31b4e</td>\n",
       "      <td>6dbc37</td>\n",
       "      <td>e56e80</td>\n",
       "    </tr>\n",
       "  </tbody>\n",
       "</table>\n",
       "</div>"
      ],
      "text/plain": [
       "   geo_id country_id region_id timezone_id\n",
       "0    6447     c31b4e    470e75      f6155e\n",
       "1    8730     a0a6e9       NaN      d816ca\n",
       "2    7769     e878d4       NaN      ec4385\n",
       "3    7330     c31b4e    23f9c2      f6155e\n",
       "4     600     c31b4e    6dbc37      e56e80"
      ]
     },
     "execution_count": 6,
     "metadata": {},
     "output_type": "execute_result"
    }
   ],
   "source": [
    "geo_id.head()"
   ]
  },
  {
   "cell_type": "code",
   "execution_count": 7,
   "metadata": {
    "id": "CIrMKemEA7Lg"
   },
   "outputs": [],
   "source": [
    "df = df.join(geo_id.set_index('geo_id'), on='geo_id')"
   ]
  },
  {
   "cell_type": "code",
   "execution_count": 8,
   "metadata": {
    "colab": {
     "base_uri": "https://localhost:8080/"
    },
    "id": "z_qD7vHpQ7-1",
    "outputId": "6a147a9a-dd24-4c98-d2f6-f89571ac0a24"
   },
   "outputs": [
    {
     "data": {
      "text/plain": [
       "(591836, 9)"
      ]
     },
     "execution_count": 8,
     "metadata": {},
     "output_type": "execute_result"
    }
   ],
   "source": [
    "df.shape"
   ]
  },
  {
   "cell_type": "code",
   "execution_count": 9,
   "metadata": {
    "colab": {
     "base_uri": "https://localhost:8080/",
     "height": 206
    },
    "id": "u32kzCLoC-2K",
    "outputId": "07454d36-2c18-478a-b5e6-1462b5166808"
   },
   "outputs": [
    {
     "data": {
      "text/html": [
       "<div>\n",
       "<style scoped>\n",
       "    .dataframe tbody tr th:only-of-type {\n",
       "        vertical-align: middle;\n",
       "    }\n",
       "\n",
       "    .dataframe tbody tr th {\n",
       "        vertical-align: top;\n",
       "    }\n",
       "\n",
       "    .dataframe thead th {\n",
       "        text-align: right;\n",
       "    }\n",
       "</style>\n",
       "<table border=\"1\" class=\"dataframe\">\n",
       "  <thead>\n",
       "    <tr style=\"text-align: right;\">\n",
       "      <th></th>\n",
       "      <th>request_ts</th>\n",
       "      <th>user_id</th>\n",
       "      <th>referer</th>\n",
       "      <th>geo_id</th>\n",
       "      <th>user_agent</th>\n",
       "      <th>target</th>\n",
       "      <th>country_id</th>\n",
       "      <th>region_id</th>\n",
       "      <th>timezone_id</th>\n",
       "    </tr>\n",
       "  </thead>\n",
       "  <tbody>\n",
       "    <tr>\n",
       "      <th>0</th>\n",
       "      <td>1701011363</td>\n",
       "      <td>fb858e8e0a2bec074450eaf94b627fd3</td>\n",
       "      <td>https://9b48ee5/</td>\n",
       "      <td>4799</td>\n",
       "      <td>{'browser': 'Chrome Mobile', 'browser_version'...</td>\n",
       "      <td>0</td>\n",
       "      <td>c31b4e</td>\n",
       "      <td>470e75</td>\n",
       "      <td>f6155e</td>\n",
       "    </tr>\n",
       "    <tr>\n",
       "      <th>1</th>\n",
       "      <td>1700986581</td>\n",
       "      <td>46a5f128fd569c764a92c2eaa788095e</td>\n",
       "      <td>https://9b48ee5/</td>\n",
       "      <td>8257</td>\n",
       "      <td>{'browser': 'Chrome Mobile', 'browser_version'...</td>\n",
       "      <td>0</td>\n",
       "      <td>c31b4e</td>\n",
       "      <td>44520b</td>\n",
       "      <td>e56e80</td>\n",
       "    </tr>\n",
       "    <tr>\n",
       "      <th>2</th>\n",
       "      <td>1701011071</td>\n",
       "      <td>5a74e9ac53ffb21a20cce117c0ad77ba</td>\n",
       "      <td>https://9634fd0/1409e548</td>\n",
       "      <td>3150</td>\n",
       "      <td>{'browser': 'Yandex Browser', 'browser_version...</td>\n",
       "      <td>0</td>\n",
       "      <td>c31b4e</td>\n",
       "      <td>616bb9</td>\n",
       "      <td>af47f1</td>\n",
       "    </tr>\n",
       "    <tr>\n",
       "      <th>3</th>\n",
       "      <td>1700992803</td>\n",
       "      <td>af735816ca19115431ae3d89518c8c91</td>\n",
       "      <td>https://9b48ee5/</td>\n",
       "      <td>2740</td>\n",
       "      <td>{'browser': 'Chrome Mobile', 'browser_version'...</td>\n",
       "      <td>0</td>\n",
       "      <td>c31b4e</td>\n",
       "      <td>3c9dca</td>\n",
       "      <td>e56e80</td>\n",
       "    </tr>\n",
       "    <tr>\n",
       "      <th>4</th>\n",
       "      <td>1701021666</td>\n",
       "      <td>364f0ae0a3f29a685c4fb5bae6033b9a</td>\n",
       "      <td>https://9b48ee5/</td>\n",
       "      <td>4863</td>\n",
       "      <td>{'browser': 'Yandex Browser', 'browser_version...</td>\n",
       "      <td>0</td>\n",
       "      <td>c31b4e</td>\n",
       "      <td>776e76</td>\n",
       "      <td>10b7947</td>\n",
       "    </tr>\n",
       "  </tbody>\n",
       "</table>\n",
       "</div>"
      ],
      "text/plain": [
       "   request_ts                           user_id                   referer  \\\n",
       "0  1701011363  fb858e8e0a2bec074450eaf94b627fd3          https://9b48ee5/   \n",
       "1  1700986581  46a5f128fd569c764a92c2eaa788095e          https://9b48ee5/   \n",
       "2  1701011071  5a74e9ac53ffb21a20cce117c0ad77ba  https://9634fd0/1409e548   \n",
       "3  1700992803  af735816ca19115431ae3d89518c8c91          https://9b48ee5/   \n",
       "4  1701021666  364f0ae0a3f29a685c4fb5bae6033b9a          https://9b48ee5/   \n",
       "\n",
       "   geo_id                                         user_agent  target  \\\n",
       "0    4799  {'browser': 'Chrome Mobile', 'browser_version'...       0   \n",
       "1    8257  {'browser': 'Chrome Mobile', 'browser_version'...       0   \n",
       "2    3150  {'browser': 'Yandex Browser', 'browser_version...       0   \n",
       "3    2740  {'browser': 'Chrome Mobile', 'browser_version'...       0   \n",
       "4    4863  {'browser': 'Yandex Browser', 'browser_version...       0   \n",
       "\n",
       "  country_id region_id timezone_id  \n",
       "0     c31b4e    470e75      f6155e  \n",
       "1     c31b4e    44520b      e56e80  \n",
       "2     c31b4e    616bb9      af47f1  \n",
       "3     c31b4e    3c9dca      e56e80  \n",
       "4     c31b4e    776e76     10b7947  "
      ]
     },
     "execution_count": 9,
     "metadata": {},
     "output_type": "execute_result"
    }
   ],
   "source": [
    "df.head()"
   ]
  },
  {
   "cell_type": "code",
   "execution_count": 10,
   "metadata": {
    "id": "pr3o52mQEUMD"
   },
   "outputs": [],
   "source": [
    "referer = pd.read_csv('referer_vectors.csv', delimiter=';').drop_duplicates()"
   ]
  },
  {
   "cell_type": "code",
   "execution_count": 11,
   "metadata": {
    "colab": {
     "base_uri": "https://localhost:8080/",
     "height": 206
    },
    "id": "7qQLW8fXEa-1",
    "outputId": "eda39112-d9d7-4af5-9c84-8a75b953312d"
   },
   "outputs": [
    {
     "data": {
      "text/html": [
       "<div>\n",
       "<style scoped>\n",
       "    .dataframe tbody tr th:only-of-type {\n",
       "        vertical-align: middle;\n",
       "    }\n",
       "\n",
       "    .dataframe tbody tr th {\n",
       "        vertical-align: top;\n",
       "    }\n",
       "\n",
       "    .dataframe thead th {\n",
       "        text-align: right;\n",
       "    }\n",
       "</style>\n",
       "<table border=\"1\" class=\"dataframe\">\n",
       "  <thead>\n",
       "    <tr style=\"text-align: right;\">\n",
       "      <th></th>\n",
       "      <th>component0</th>\n",
       "      <th>component1</th>\n",
       "      <th>component2</th>\n",
       "      <th>component3</th>\n",
       "      <th>component4</th>\n",
       "      <th>component5</th>\n",
       "      <th>component6</th>\n",
       "      <th>component7</th>\n",
       "      <th>component8</th>\n",
       "      <th>component9</th>\n",
       "      <th>referer</th>\n",
       "    </tr>\n",
       "  </thead>\n",
       "  <tbody>\n",
       "    <tr>\n",
       "      <th>0</th>\n",
       "      <td>16708</td>\n",
       "      <td>-3741</td>\n",
       "      <td>11395</td>\n",
       "      <td>-1597</td>\n",
       "      <td>-3212</td>\n",
       "      <td>6269</td>\n",
       "      <td>5610</td>\n",
       "      <td>-15351</td>\n",
       "      <td>13779</td>\n",
       "      <td>14102</td>\n",
       "      <td>https://a6899a4/15652e67</td>\n",
       "    </tr>\n",
       "    <tr>\n",
       "      <th>1</th>\n",
       "      <td>11731</td>\n",
       "      <td>4045</td>\n",
       "      <td>22213</td>\n",
       "      <td>-1184</td>\n",
       "      <td>-8992</td>\n",
       "      <td>9381</td>\n",
       "      <td>-3496</td>\n",
       "      <td>-3120</td>\n",
       "      <td>-899</td>\n",
       "      <td>16817</td>\n",
       "      <td>https://9b48ee5/</td>\n",
       "    </tr>\n",
       "    <tr>\n",
       "      <th>2</th>\n",
       "      <td>10551</td>\n",
       "      <td>2947</td>\n",
       "      <td>12282</td>\n",
       "      <td>-470</td>\n",
       "      <td>16222</td>\n",
       "      <td>4472</td>\n",
       "      <td>-3316</td>\n",
       "      <td>9606</td>\n",
       "      <td>4197</td>\n",
       "      <td>18948</td>\n",
       "      <td>https://7a4c700/161af7e3</td>\n",
       "    </tr>\n",
       "    <tr>\n",
       "      <th>3</th>\n",
       "      <td>12816</td>\n",
       "      <td>20498</td>\n",
       "      <td>-10110</td>\n",
       "      <td>7731</td>\n",
       "      <td>-569</td>\n",
       "      <td>12035</td>\n",
       "      <td>3014</td>\n",
       "      <td>6398</td>\n",
       "      <td>11439</td>\n",
       "      <td>-271</td>\n",
       "      <td>https://9653126/159bc361</td>\n",
       "    </tr>\n",
       "    <tr>\n",
       "      <th>4</th>\n",
       "      <td>3710</td>\n",
       "      <td>11096</td>\n",
       "      <td>11333</td>\n",
       "      <td>14673</td>\n",
       "      <td>8030</td>\n",
       "      <td>1852</td>\n",
       "      <td>10554</td>\n",
       "      <td>11625</td>\n",
       "      <td>4306</td>\n",
       "      <td>13210</td>\n",
       "      <td>https://72879b4/125c29e6</td>\n",
       "    </tr>\n",
       "  </tbody>\n",
       "</table>\n",
       "</div>"
      ],
      "text/plain": [
       "   component0  component1  component2  component3  component4  component5  \\\n",
       "0       16708       -3741       11395       -1597       -3212        6269   \n",
       "1       11731        4045       22213       -1184       -8992        9381   \n",
       "2       10551        2947       12282        -470       16222        4472   \n",
       "3       12816       20498      -10110        7731        -569       12035   \n",
       "4        3710       11096       11333       14673        8030        1852   \n",
       "\n",
       "   component6  component7  component8  component9                   referer  \n",
       "0        5610      -15351       13779       14102  https://a6899a4/15652e67  \n",
       "1       -3496       -3120        -899       16817          https://9b48ee5/  \n",
       "2       -3316        9606        4197       18948  https://7a4c700/161af7e3  \n",
       "3        3014        6398       11439        -271  https://9653126/159bc361  \n",
       "4       10554       11625        4306       13210  https://72879b4/125c29e6  "
      ]
     },
     "execution_count": 11,
     "metadata": {},
     "output_type": "execute_result"
    }
   ],
   "source": [
    "referer.head()"
   ]
  },
  {
   "cell_type": "code",
   "execution_count": 12,
   "metadata": {
    "colab": {
     "base_uri": "https://localhost:8080/"
    },
    "id": "8Zk3fiKAXAXz",
    "outputId": "ae40ffad-1138-4afb-eb15-7b5a7df628fa"
   },
   "outputs": [
    {
     "data": {
      "text/plain": [
       "(198844, 11)"
      ]
     },
     "execution_count": 12,
     "metadata": {},
     "output_type": "execute_result"
    }
   ],
   "source": [
    "referer.shape"
   ]
  },
  {
   "cell_type": "code",
   "execution_count": 13,
   "metadata": {
    "id": "r0cU5ukpEEVW"
   },
   "outputs": [],
   "source": [
    "df = df.join(referer.set_index('referer'), on='referer')"
   ]
  },
  {
   "cell_type": "code",
   "execution_count": 14,
   "metadata": {
    "colab": {
     "base_uri": "https://localhost:8080/",
     "height": 399
    },
    "id": "t6gPO3YNEy7E",
    "outputId": "a1440bb2-44b0-4c9f-c536-e47749fcb4e8"
   },
   "outputs": [
    {
     "data": {
      "text/html": [
       "<div>\n",
       "<style scoped>\n",
       "    .dataframe tbody tr th:only-of-type {\n",
       "        vertical-align: middle;\n",
       "    }\n",
       "\n",
       "    .dataframe tbody tr th {\n",
       "        vertical-align: top;\n",
       "    }\n",
       "\n",
       "    .dataframe thead th {\n",
       "        text-align: right;\n",
       "    }\n",
       "</style>\n",
       "<table border=\"1\" class=\"dataframe\">\n",
       "  <thead>\n",
       "    <tr style=\"text-align: right;\">\n",
       "      <th></th>\n",
       "      <th>request_ts</th>\n",
       "      <th>user_id</th>\n",
       "      <th>referer</th>\n",
       "      <th>geo_id</th>\n",
       "      <th>user_agent</th>\n",
       "      <th>target</th>\n",
       "      <th>country_id</th>\n",
       "      <th>region_id</th>\n",
       "      <th>timezone_id</th>\n",
       "      <th>component0</th>\n",
       "      <th>component1</th>\n",
       "      <th>component2</th>\n",
       "      <th>component3</th>\n",
       "      <th>component4</th>\n",
       "      <th>component5</th>\n",
       "      <th>component6</th>\n",
       "      <th>component7</th>\n",
       "      <th>component8</th>\n",
       "      <th>component9</th>\n",
       "    </tr>\n",
       "  </thead>\n",
       "  <tbody>\n",
       "    <tr>\n",
       "      <th>0</th>\n",
       "      <td>1701011363</td>\n",
       "      <td>fb858e8e0a2bec074450eaf94b627fd3</td>\n",
       "      <td>https://9b48ee5/</td>\n",
       "      <td>4799</td>\n",
       "      <td>{'browser': 'Chrome Mobile', 'browser_version'...</td>\n",
       "      <td>0</td>\n",
       "      <td>c31b4e</td>\n",
       "      <td>470e75</td>\n",
       "      <td>f6155e</td>\n",
       "      <td>11731</td>\n",
       "      <td>4045</td>\n",
       "      <td>22213</td>\n",
       "      <td>-1184</td>\n",
       "      <td>-8992</td>\n",
       "      <td>9381</td>\n",
       "      <td>-3496</td>\n",
       "      <td>-3120</td>\n",
       "      <td>-899</td>\n",
       "      <td>16817</td>\n",
       "    </tr>\n",
       "    <tr>\n",
       "      <th>1</th>\n",
       "      <td>1700986581</td>\n",
       "      <td>46a5f128fd569c764a92c2eaa788095e</td>\n",
       "      <td>https://9b48ee5/</td>\n",
       "      <td>8257</td>\n",
       "      <td>{'browser': 'Chrome Mobile', 'browser_version'...</td>\n",
       "      <td>0</td>\n",
       "      <td>c31b4e</td>\n",
       "      <td>44520b</td>\n",
       "      <td>e56e80</td>\n",
       "      <td>11731</td>\n",
       "      <td>4045</td>\n",
       "      <td>22213</td>\n",
       "      <td>-1184</td>\n",
       "      <td>-8992</td>\n",
       "      <td>9381</td>\n",
       "      <td>-3496</td>\n",
       "      <td>-3120</td>\n",
       "      <td>-899</td>\n",
       "      <td>16817</td>\n",
       "    </tr>\n",
       "    <tr>\n",
       "      <th>2</th>\n",
       "      <td>1701011071</td>\n",
       "      <td>5a74e9ac53ffb21a20cce117c0ad77ba</td>\n",
       "      <td>https://9634fd0/1409e548</td>\n",
       "      <td>3150</td>\n",
       "      <td>{'browser': 'Yandex Browser', 'browser_version...</td>\n",
       "      <td>0</td>\n",
       "      <td>c31b4e</td>\n",
       "      <td>616bb9</td>\n",
       "      <td>af47f1</td>\n",
       "      <td>12498</td>\n",
       "      <td>2451</td>\n",
       "      <td>10304</td>\n",
       "      <td>-6380</td>\n",
       "      <td>11608</td>\n",
       "      <td>3106</td>\n",
       "      <td>-2188</td>\n",
       "      <td>10573</td>\n",
       "      <td>3347</td>\n",
       "      <td>21870</td>\n",
       "    </tr>\n",
       "    <tr>\n",
       "      <th>3</th>\n",
       "      <td>1700992803</td>\n",
       "      <td>af735816ca19115431ae3d89518c8c91</td>\n",
       "      <td>https://9b48ee5/</td>\n",
       "      <td>2740</td>\n",
       "      <td>{'browser': 'Chrome Mobile', 'browser_version'...</td>\n",
       "      <td>0</td>\n",
       "      <td>c31b4e</td>\n",
       "      <td>3c9dca</td>\n",
       "      <td>e56e80</td>\n",
       "      <td>11731</td>\n",
       "      <td>4045</td>\n",
       "      <td>22213</td>\n",
       "      <td>-1184</td>\n",
       "      <td>-8992</td>\n",
       "      <td>9381</td>\n",
       "      <td>-3496</td>\n",
       "      <td>-3120</td>\n",
       "      <td>-899</td>\n",
       "      <td>16817</td>\n",
       "    </tr>\n",
       "    <tr>\n",
       "      <th>4</th>\n",
       "      <td>1701021666</td>\n",
       "      <td>364f0ae0a3f29a685c4fb5bae6033b9a</td>\n",
       "      <td>https://9b48ee5/</td>\n",
       "      <td>4863</td>\n",
       "      <td>{'browser': 'Yandex Browser', 'browser_version...</td>\n",
       "      <td>0</td>\n",
       "      <td>c31b4e</td>\n",
       "      <td>776e76</td>\n",
       "      <td>10b7947</td>\n",
       "      <td>11731</td>\n",
       "      <td>4045</td>\n",
       "      <td>22213</td>\n",
       "      <td>-1184</td>\n",
       "      <td>-8992</td>\n",
       "      <td>9381</td>\n",
       "      <td>-3496</td>\n",
       "      <td>-3120</td>\n",
       "      <td>-899</td>\n",
       "      <td>16817</td>\n",
       "    </tr>\n",
       "  </tbody>\n",
       "</table>\n",
       "</div>"
      ],
      "text/plain": [
       "   request_ts                           user_id                   referer  \\\n",
       "0  1701011363  fb858e8e0a2bec074450eaf94b627fd3          https://9b48ee5/   \n",
       "1  1700986581  46a5f128fd569c764a92c2eaa788095e          https://9b48ee5/   \n",
       "2  1701011071  5a74e9ac53ffb21a20cce117c0ad77ba  https://9634fd0/1409e548   \n",
       "3  1700992803  af735816ca19115431ae3d89518c8c91          https://9b48ee5/   \n",
       "4  1701021666  364f0ae0a3f29a685c4fb5bae6033b9a          https://9b48ee5/   \n",
       "\n",
       "   geo_id                                         user_agent  target  \\\n",
       "0    4799  {'browser': 'Chrome Mobile', 'browser_version'...       0   \n",
       "1    8257  {'browser': 'Chrome Mobile', 'browser_version'...       0   \n",
       "2    3150  {'browser': 'Yandex Browser', 'browser_version...       0   \n",
       "3    2740  {'browser': 'Chrome Mobile', 'browser_version'...       0   \n",
       "4    4863  {'browser': 'Yandex Browser', 'browser_version...       0   \n",
       "\n",
       "  country_id region_id timezone_id  component0  component1  component2  \\\n",
       "0     c31b4e    470e75      f6155e       11731        4045       22213   \n",
       "1     c31b4e    44520b      e56e80       11731        4045       22213   \n",
       "2     c31b4e    616bb9      af47f1       12498        2451       10304   \n",
       "3     c31b4e    3c9dca      e56e80       11731        4045       22213   \n",
       "4     c31b4e    776e76     10b7947       11731        4045       22213   \n",
       "\n",
       "   component3  component4  component5  component6  component7  component8  \\\n",
       "0       -1184       -8992        9381       -3496       -3120        -899   \n",
       "1       -1184       -8992        9381       -3496       -3120        -899   \n",
       "2       -6380       11608        3106       -2188       10573        3347   \n",
       "3       -1184       -8992        9381       -3496       -3120        -899   \n",
       "4       -1184       -8992        9381       -3496       -3120        -899   \n",
       "\n",
       "   component9  \n",
       "0       16817  \n",
       "1       16817  \n",
       "2       21870  \n",
       "3       16817  \n",
       "4       16817  "
      ]
     },
     "execution_count": 14,
     "metadata": {},
     "output_type": "execute_result"
    }
   ],
   "source": [
    "df.head()"
   ]
  },
  {
   "cell_type": "code",
   "execution_count": 15,
   "metadata": {
    "colab": {
     "base_uri": "https://localhost:8080/",
     "height": 342
    },
    "id": "hJUTECOIGvbu",
    "outputId": "0310668f-bf6d-46c3-8b0d-639e39cc89e6"
   },
   "outputs": [
    {
     "data": {
      "text/html": [
       "<div>\n",
       "<style scoped>\n",
       "    .dataframe tbody tr th:only-of-type {\n",
       "        vertical-align: middle;\n",
       "    }\n",
       "\n",
       "    .dataframe tbody tr th {\n",
       "        vertical-align: top;\n",
       "    }\n",
       "\n",
       "    .dataframe thead th {\n",
       "        text-align: right;\n",
       "    }\n",
       "</style>\n",
       "<table border=\"1\" class=\"dataframe\">\n",
       "  <thead>\n",
       "    <tr style=\"text-align: right;\">\n",
       "      <th></th>\n",
       "      <th>request_ts</th>\n",
       "      <th>user_id</th>\n",
       "      <th>referer</th>\n",
       "      <th>geo_id</th>\n",
       "      <th>target</th>\n",
       "      <th>country_id</th>\n",
       "      <th>region_id</th>\n",
       "      <th>timezone_id</th>\n",
       "      <th>component0</th>\n",
       "      <th>component1</th>\n",
       "      <th>...</th>\n",
       "      <th>component4</th>\n",
       "      <th>component5</th>\n",
       "      <th>component6</th>\n",
       "      <th>component7</th>\n",
       "      <th>component8</th>\n",
       "      <th>component9</th>\n",
       "      <th>browser</th>\n",
       "      <th>os</th>\n",
       "      <th>browser_version</th>\n",
       "      <th>os_version</th>\n",
       "    </tr>\n",
       "  </thead>\n",
       "  <tbody>\n",
       "    <tr>\n",
       "      <th>0</th>\n",
       "      <td>1701011363</td>\n",
       "      <td>fb858e8e0a2bec074450eaf94b627fd3</td>\n",
       "      <td>https://9b48ee5/</td>\n",
       "      <td>4799</td>\n",
       "      <td>0</td>\n",
       "      <td>c31b4e</td>\n",
       "      <td>470e75</td>\n",
       "      <td>f6155e</td>\n",
       "      <td>11731</td>\n",
       "      <td>4045</td>\n",
       "      <td>...</td>\n",
       "      <td>-8992</td>\n",
       "      <td>9381</td>\n",
       "      <td>-3496</td>\n",
       "      <td>-3120</td>\n",
       "      <td>-899</td>\n",
       "      <td>16817</td>\n",
       "      <td>Chrome Mobile</td>\n",
       "      <td>Android</td>\n",
       "      <td>119.0.0</td>\n",
       "      <td>10</td>\n",
       "    </tr>\n",
       "    <tr>\n",
       "      <th>1</th>\n",
       "      <td>1700986581</td>\n",
       "      <td>46a5f128fd569c764a92c2eaa788095e</td>\n",
       "      <td>https://9b48ee5/</td>\n",
       "      <td>8257</td>\n",
       "      <td>0</td>\n",
       "      <td>c31b4e</td>\n",
       "      <td>44520b</td>\n",
       "      <td>e56e80</td>\n",
       "      <td>11731</td>\n",
       "      <td>4045</td>\n",
       "      <td>...</td>\n",
       "      <td>-8992</td>\n",
       "      <td>9381</td>\n",
       "      <td>-3496</td>\n",
       "      <td>-3120</td>\n",
       "      <td>-899</td>\n",
       "      <td>16817</td>\n",
       "      <td>Chrome Mobile</td>\n",
       "      <td>Android</td>\n",
       "      <td>111.0.0</td>\n",
       "      <td>10</td>\n",
       "    </tr>\n",
       "    <tr>\n",
       "      <th>2</th>\n",
       "      <td>1701011071</td>\n",
       "      <td>5a74e9ac53ffb21a20cce117c0ad77ba</td>\n",
       "      <td>https://9634fd0/1409e548</td>\n",
       "      <td>3150</td>\n",
       "      <td>0</td>\n",
       "      <td>c31b4e</td>\n",
       "      <td>616bb9</td>\n",
       "      <td>af47f1</td>\n",
       "      <td>12498</td>\n",
       "      <td>2451</td>\n",
       "      <td>...</td>\n",
       "      <td>11608</td>\n",
       "      <td>3106</td>\n",
       "      <td>-2188</td>\n",
       "      <td>10573</td>\n",
       "      <td>3347</td>\n",
       "      <td>21870</td>\n",
       "      <td>Yandex Browser</td>\n",
       "      <td>Android</td>\n",
       "      <td>20.12.5</td>\n",
       "      <td>11</td>\n",
       "    </tr>\n",
       "    <tr>\n",
       "      <th>3</th>\n",
       "      <td>1700992803</td>\n",
       "      <td>af735816ca19115431ae3d89518c8c91</td>\n",
       "      <td>https://9b48ee5/</td>\n",
       "      <td>2740</td>\n",
       "      <td>0</td>\n",
       "      <td>c31b4e</td>\n",
       "      <td>3c9dca</td>\n",
       "      <td>e56e80</td>\n",
       "      <td>11731</td>\n",
       "      <td>4045</td>\n",
       "      <td>...</td>\n",
       "      <td>-8992</td>\n",
       "      <td>9381</td>\n",
       "      <td>-3496</td>\n",
       "      <td>-3120</td>\n",
       "      <td>-899</td>\n",
       "      <td>16817</td>\n",
       "      <td>Chrome Mobile</td>\n",
       "      <td>Android</td>\n",
       "      <td>119.0.0</td>\n",
       "      <td>10</td>\n",
       "    </tr>\n",
       "    <tr>\n",
       "      <th>4</th>\n",
       "      <td>1701021666</td>\n",
       "      <td>364f0ae0a3f29a685c4fb5bae6033b9a</td>\n",
       "      <td>https://9b48ee5/</td>\n",
       "      <td>4863</td>\n",
       "      <td>0</td>\n",
       "      <td>c31b4e</td>\n",
       "      <td>776e76</td>\n",
       "      <td>10b7947</td>\n",
       "      <td>11731</td>\n",
       "      <td>4045</td>\n",
       "      <td>...</td>\n",
       "      <td>-8992</td>\n",
       "      <td>9381</td>\n",
       "      <td>-3496</td>\n",
       "      <td>-3120</td>\n",
       "      <td>-899</td>\n",
       "      <td>16817</td>\n",
       "      <td>Yandex Browser</td>\n",
       "      <td>Android</td>\n",
       "      <td>18.11.1</td>\n",
       "      <td>4.4.4</td>\n",
       "    </tr>\n",
       "  </tbody>\n",
       "</table>\n",
       "<p>5 rows × 22 columns</p>\n",
       "</div>"
      ],
      "text/plain": [
       "   request_ts                           user_id                   referer  \\\n",
       "0  1701011363  fb858e8e0a2bec074450eaf94b627fd3          https://9b48ee5/   \n",
       "1  1700986581  46a5f128fd569c764a92c2eaa788095e          https://9b48ee5/   \n",
       "2  1701011071  5a74e9ac53ffb21a20cce117c0ad77ba  https://9634fd0/1409e548   \n",
       "3  1700992803  af735816ca19115431ae3d89518c8c91          https://9b48ee5/   \n",
       "4  1701021666  364f0ae0a3f29a685c4fb5bae6033b9a          https://9b48ee5/   \n",
       "\n",
       "   geo_id  target country_id region_id timezone_id  component0  component1  \\\n",
       "0    4799       0     c31b4e    470e75      f6155e       11731        4045   \n",
       "1    8257       0     c31b4e    44520b      e56e80       11731        4045   \n",
       "2    3150       0     c31b4e    616bb9      af47f1       12498        2451   \n",
       "3    2740       0     c31b4e    3c9dca      e56e80       11731        4045   \n",
       "4    4863       0     c31b4e    776e76     10b7947       11731        4045   \n",
       "\n",
       "   ...  component4  component5  component6  component7  component8  \\\n",
       "0  ...       -8992        9381       -3496       -3120        -899   \n",
       "1  ...       -8992        9381       -3496       -3120        -899   \n",
       "2  ...       11608        3106       -2188       10573        3347   \n",
       "3  ...       -8992        9381       -3496       -3120        -899   \n",
       "4  ...       -8992        9381       -3496       -3120        -899   \n",
       "\n",
       "   component9         browser       os browser_version os_version  \n",
       "0       16817   Chrome Mobile  Android         119.0.0         10  \n",
       "1       16817   Chrome Mobile  Android         111.0.0         10  \n",
       "2       21870  Yandex Browser  Android         20.12.5         11  \n",
       "3       16817   Chrome Mobile  Android         119.0.0         10  \n",
       "4       16817  Yandex Browser  Android         18.11.1      4.4.4  \n",
       "\n",
       "[5 rows x 22 columns]"
      ]
     },
     "execution_count": 15,
     "metadata": {},
     "output_type": "execute_result"
    }
   ],
   "source": [
    "def extract_user_agent_info(user_agent_str):\n",
    "    try:\n",
    "        user_agent_dict = eval(user_agent_str)\n",
    "        browser = user_agent_dict.get('browser', 'Unknown')\n",
    "        os = user_agent_dict.get('os', 'Unknown')\n",
    "        browser_version = user_agent_dict.get('browser_version', 'Unknown')\n",
    "        os_version = user_agent_dict.get('os_version', 'Unknown')\n",
    "        return pd.Series([browser, os, browser_version, os_version])\n",
    "    except:\n",
    "        return pd.Series(['Unknown', 'Unknown', 'Unknown', 'Unknown'])\n",
    "df[['browser', 'os', 'browser_version', 'os_version']] = df['user_agent'].apply(extract_user_agent_info)\n",
    "\n",
    "df = df.drop(columns=['user_agent'])\n",
    "df.head()"
   ]
  },
  {
   "cell_type": "code",
   "execution_count": 16,
   "metadata": {},
   "outputs": [
    {
     "data": {
      "text/plain": [
       "72879b4    51716\n",
       "6a81948    46724\n",
       "8807153    30325\n",
       "9b08d64    26365\n",
       "9f1218f    25443\n",
       "           ...  \n",
       "65ad3ab        1\n",
       "8a4cb1e        1\n",
       "ad93f29        1\n",
       "85497da        1\n",
       "be7a853        1\n",
       "Name: referer, Length: 4998, dtype: int64"
      ]
     },
     "execution_count": 16,
     "metadata": {},
     "output_type": "execute_result"
    }
   ],
   "source": [
    "df['referer'].apply(lambda x: x.split('/')[-2]).value_counts()#.describe()"
   ]
  },
  {
   "cell_type": "code",
   "execution_count": 57,
   "metadata": {},
   "outputs": [
    {
     "data": {
      "text/plain": [
       "count     2828.000000\n",
       "mean       209.277228\n",
       "std       2140.374942\n",
       "min          1.000000\n",
       "25%          2.000000\n",
       "50%          9.000000\n",
       "75%         41.000000\n",
       "max      95172.000000\n",
       "Name: count, dtype: float64"
      ]
     },
     "execution_count": 57,
     "metadata": {},
     "output_type": "execute_result"
    }
   ],
   "source": [
    "df['geo_id'].value_counts().describe()"
   ]
  },
  {
   "cell_type": "code",
   "execution_count": 55,
   "metadata": {},
   "outputs": [
    {
     "data": {
      "text/plain": [
       "count    135012.000000\n",
       "mean          4.383581\n",
       "std         149.706592\n",
       "min           1.000000\n",
       "25%           1.000000\n",
       "50%           1.000000\n",
       "75%           1.000000\n",
       "max       29633.000000\n",
       "Name: count, dtype: float64"
      ]
     },
     "execution_count": 55,
     "metadata": {},
     "output_type": "execute_result"
    }
   ],
   "source": [
    "df['referer'].value_counts().describe()"
   ]
  },
  {
   "cell_type": "code",
   "execution_count": 17,
   "metadata": {
    "id": "8ehqCpIaLoTa"
   },
   "outputs": [],
   "source": [
    "# from sklearn.preprocessing import LabelEncoder\n",
    "# browser_version = LabelEncoder()\n",
    "# df['browser_version'] = browser_version.fit_transform(df['browser_version'])\n",
    "# browser_version = LabelEncoder()\n",
    "# df['os'] = browser_version.fit_transform(df['os'])\n",
    "# browser_version = LabelEncoder()\n",
    "# df['os_version'] = browser_version.fit_transform(df['os_version'])"
   ]
  },
  {
   "cell_type": "code",
   "execution_count": 24,
   "metadata": {
    "colab": {
     "base_uri": "https://localhost:8080/"
    },
    "id": "qOm3DVxVZoX8",
    "outputId": "89354531-38ce-45a0-adde-cca34f53c080"
   },
   "outputs": [
    {
     "data": {
      "text/plain": [
       "(591836, 22)"
      ]
     },
     "execution_count": 24,
     "metadata": {},
     "output_type": "execute_result"
    }
   ],
   "source": [
    "df.shape"
   ]
  },
  {
   "cell_type": "code",
   "execution_count": 44,
   "metadata": {},
   "outputs": [],
   "source": [
    "# from category_encoders.binary import BinaryEncoder\n",
    "# bn = BinaryEncoder()\n",
    "# bn.fit_transform(data.values)"
   ]
  },
  {
   "cell_type": "code",
   "execution_count": 49,
   "metadata": {
    "id": "TFkr6klKPoGq"
   },
   "outputs": [],
   "source": [
    "browser_dummies = pd.get_dummies(df['browser'], dtype=float, prefix='browser_')\n",
    "browser_version_dummies = pd.get_dummies(df['browser_version'], dtype=float, prefix='browser_version')\n",
    "os_dummies = pd.get_dummies(df['os'], dtype=float, prefix='os_')\n",
    "os_version_dummies = pd.get_dummies(df['os_version'], dtype=float, prefix='os_version')"
   ]
  },
  {
   "cell_type": "code",
   "execution_count": 70,
   "metadata": {},
   "outputs": [],
   "source": [
    "country_dummies = pd.get_dummies(df['country_id'], dtype=float, prefix='country_')\n",
    "region_dummies = pd.get_dummies(df['region_id'], dtype=float, prefix='region')\n",
    "timezone_dummies = pd.get_dummies(df['timezone_id'], dtype=float, prefix='timezone_')"
   ]
  },
  {
   "cell_type": "code",
   "execution_count": 71,
   "metadata": {},
   "outputs": [],
   "source": [
    "pca = PCA(n_components=10)\n",
    "country_dummies = pd.DataFrame(data=pca.fit_transform(country_dummies), index=df.index, columns=[f'country_{i}' for i in range(10)])\n",
    "pca = PCA(n_components=10)\n",
    "region_dummies = pd.DataFrame(data=pca.fit_transform(region_dummies), index=df.index, columns=[f'region_{i}' for i in range(10)])\n",
    "pca = PCA(n_components=10)\n",
    "timezone_dummies = pd.DataFrame(data=pca.fit_transform(timezone_dummies), index=df.index, columns=[f'timezone_{i}' for i in range(10)])\n",
    "df = df.join(country_dummies).join(region_dummies).join(timezone_dummies)"
   ]
  },
  {
   "cell_type": "code",
   "execution_count": 50,
   "metadata": {},
   "outputs": [],
   "source": [
    "from sklearn.decomposition import PCA\n",
    "pca = PCA(n_components=10)\n",
    "browser_dummies = pd.DataFrame(data=pca.fit_transform(browser_dummies), index=df.index, columns=[f'browser_{i}' for i in range(10)])\n",
    "pca = PCA(n_components=10)\n",
    "browser_version_dummies = pd.DataFrame(data=pca.fit_transform(browser_version_dummies), index=df.index, columns=[f'browser_version_{i}' for i in range(10)])\n",
    "pca = PCA(n_components=10)\n",
    "os_dummies = pd.DataFrame(data=pca.fit_transform(os_dummies), index=df.index, columns=[f'os_{i}' for i in range(10)])\n",
    "pca = PCA(n_components=10)\n",
    "os_version_dummies = pd.DataFrame(data=pca.fit_transform(os_version_dummies), index=df.index, columns=[f'os_version_{i}' for i in range(10)])\n",
    "df = df.join(browser_dummies).join(browser_version_dummies).join(os_dummies).join(os_version_dummies)"
   ]
  },
  {
   "cell_type": "code",
   "execution_count": 22,
   "metadata": {},
   "outputs": [
    {
     "name": "stderr",
     "output_type": "stream",
     "text": [
      "C:\\Users\\User\\AppData\\Local\\Temp\\ipykernel_6812\\2226137663.py:2: UserWarning: Boolean Series key will be reindexed to match DataFrame index.\n",
      "  df[df['browser_version'].value_counts() < 10]\n"
     ]
    },
    {
     "ename": "IndexingError",
     "evalue": "Unalignable boolean Series provided as indexer (index of the boolean Series and of the indexed object do not match).",
     "output_type": "error",
     "traceback": [
      "\u001b[1;31m---------------------------------------------------------------------------\u001b[0m",
      "\u001b[1;31mIndexingError\u001b[0m                             Traceback (most recent call last)",
      "Cell \u001b[1;32mIn[22], line 2\u001b[0m\n\u001b[0;32m      1\u001b[0m get_ipython()\u001b[38;5;241m.\u001b[39mrun_line_magic(\u001b[38;5;124m'\u001b[39m\u001b[38;5;124mmatplotlib\u001b[39m\u001b[38;5;124m'\u001b[39m, \u001b[38;5;124m'\u001b[39m\u001b[38;5;124minline\u001b[39m\u001b[38;5;124m'\u001b[39m)\n\u001b[1;32m----> 2\u001b[0m \u001b[43mdf\u001b[49m\u001b[43m[\u001b[49m\u001b[43mdf\u001b[49m\u001b[43m[\u001b[49m\u001b[38;5;124;43m'\u001b[39;49m\u001b[38;5;124;43mbrowser_version\u001b[39;49m\u001b[38;5;124;43m'\u001b[39;49m\u001b[43m]\u001b[49m\u001b[38;5;241;43m.\u001b[39;49m\u001b[43mvalue_counts\u001b[49m\u001b[43m(\u001b[49m\u001b[43m)\u001b[49m\u001b[43m \u001b[49m\u001b[38;5;241;43m<\u001b[39;49m\u001b[43m \u001b[49m\u001b[38;5;241;43m10\u001b[39;49m\u001b[43m]\u001b[49m\n\u001b[0;32m      3\u001b[0m \u001b[38;5;66;03m# df = df.drop(df[df['browser_version'] < ].index)\u001b[39;00m\n",
      "File \u001b[1;32m~\\AppData\\Local\\Programs\\Python\\Python39\\lib\\site-packages\\pandas\\core\\frame.py:3496\u001b[0m, in \u001b[0;36mDataFrame.__getitem__\u001b[1;34m(self, key)\u001b[0m\n\u001b[0;32m   3494\u001b[0m \u001b[38;5;66;03m# Do we have a (boolean) 1d indexer?\u001b[39;00m\n\u001b[0;32m   3495\u001b[0m \u001b[38;5;28;01mif\u001b[39;00m com\u001b[38;5;241m.\u001b[39mis_bool_indexer(key):\n\u001b[1;32m-> 3496\u001b[0m     \u001b[38;5;28;01mreturn\u001b[39;00m \u001b[38;5;28;43mself\u001b[39;49m\u001b[38;5;241;43m.\u001b[39;49m\u001b[43m_getitem_bool_array\u001b[49m\u001b[43m(\u001b[49m\u001b[43mkey\u001b[49m\u001b[43m)\u001b[49m\n\u001b[0;32m   3498\u001b[0m \u001b[38;5;66;03m# We are left with two options: a single key, and a collection of keys,\u001b[39;00m\n\u001b[0;32m   3499\u001b[0m \u001b[38;5;66;03m# We interpret tuples as collections only for non-MultiIndex\u001b[39;00m\n\u001b[0;32m   3500\u001b[0m is_single_key \u001b[38;5;241m=\u001b[39m \u001b[38;5;28misinstance\u001b[39m(key, \u001b[38;5;28mtuple\u001b[39m) \u001b[38;5;129;01mor\u001b[39;00m \u001b[38;5;129;01mnot\u001b[39;00m is_list_like(key)\n",
      "File \u001b[1;32m~\\AppData\\Local\\Programs\\Python\\Python39\\lib\\site-packages\\pandas\\core\\frame.py:3549\u001b[0m, in \u001b[0;36mDataFrame._getitem_bool_array\u001b[1;34m(self, key)\u001b[0m\n\u001b[0;32m   3543\u001b[0m     \u001b[38;5;28;01mraise\u001b[39;00m \u001b[38;5;167;01mValueError\u001b[39;00m(\n\u001b[0;32m   3544\u001b[0m         \u001b[38;5;124mf\u001b[39m\u001b[38;5;124m\"\u001b[39m\u001b[38;5;124mItem wrong length \u001b[39m\u001b[38;5;132;01m{\u001b[39;00m\u001b[38;5;28mlen\u001b[39m(key)\u001b[38;5;132;01m}\u001b[39;00m\u001b[38;5;124m instead of \u001b[39m\u001b[38;5;132;01m{\u001b[39;00m\u001b[38;5;28mlen\u001b[39m(\u001b[38;5;28mself\u001b[39m\u001b[38;5;241m.\u001b[39mindex)\u001b[38;5;132;01m}\u001b[39;00m\u001b[38;5;124m.\u001b[39m\u001b[38;5;124m\"\u001b[39m\n\u001b[0;32m   3545\u001b[0m     )\n\u001b[0;32m   3547\u001b[0m \u001b[38;5;66;03m# check_bool_indexer will throw exception if Series key cannot\u001b[39;00m\n\u001b[0;32m   3548\u001b[0m \u001b[38;5;66;03m# be reindexed to match DataFrame rows\u001b[39;00m\n\u001b[1;32m-> 3549\u001b[0m key \u001b[38;5;241m=\u001b[39m \u001b[43mcheck_bool_indexer\u001b[49m\u001b[43m(\u001b[49m\u001b[38;5;28;43mself\u001b[39;49m\u001b[38;5;241;43m.\u001b[39;49m\u001b[43mindex\u001b[49m\u001b[43m,\u001b[49m\u001b[43m \u001b[49m\u001b[43mkey\u001b[49m\u001b[43m)\u001b[49m\n\u001b[0;32m   3550\u001b[0m indexer \u001b[38;5;241m=\u001b[39m key\u001b[38;5;241m.\u001b[39mnonzero()[\u001b[38;5;241m0\u001b[39m]\n\u001b[0;32m   3551\u001b[0m \u001b[38;5;28;01mreturn\u001b[39;00m \u001b[38;5;28mself\u001b[39m\u001b[38;5;241m.\u001b[39m_take_with_is_copy(indexer, axis\u001b[38;5;241m=\u001b[39m\u001b[38;5;241m0\u001b[39m)\n",
      "File \u001b[1;32m~\\AppData\\Local\\Programs\\Python\\Python39\\lib\\site-packages\\pandas\\core\\indexing.py:2383\u001b[0m, in \u001b[0;36mcheck_bool_indexer\u001b[1;34m(index, key)\u001b[0m\n\u001b[0;32m   2381\u001b[0m     mask \u001b[38;5;241m=\u001b[39m isna(result\u001b[38;5;241m.\u001b[39m_values)\n\u001b[0;32m   2382\u001b[0m     \u001b[38;5;28;01mif\u001b[39;00m mask\u001b[38;5;241m.\u001b[39many():\n\u001b[1;32m-> 2383\u001b[0m         \u001b[38;5;28;01mraise\u001b[39;00m IndexingError(\n\u001b[0;32m   2384\u001b[0m             \u001b[38;5;124m\"\u001b[39m\u001b[38;5;124mUnalignable boolean Series provided as \u001b[39m\u001b[38;5;124m\"\u001b[39m\n\u001b[0;32m   2385\u001b[0m             \u001b[38;5;124m\"\u001b[39m\u001b[38;5;124mindexer (index of the boolean Series and of \u001b[39m\u001b[38;5;124m\"\u001b[39m\n\u001b[0;32m   2386\u001b[0m             \u001b[38;5;124m\"\u001b[39m\u001b[38;5;124mthe indexed object do not match).\u001b[39m\u001b[38;5;124m\"\u001b[39m\n\u001b[0;32m   2387\u001b[0m         )\n\u001b[0;32m   2388\u001b[0m     \u001b[38;5;28;01mreturn\u001b[39;00m result\u001b[38;5;241m.\u001b[39mastype(\u001b[38;5;28mbool\u001b[39m)\u001b[38;5;241m.\u001b[39m_values\n\u001b[0;32m   2389\u001b[0m \u001b[38;5;28;01mif\u001b[39;00m is_object_dtype(key):\n\u001b[0;32m   2390\u001b[0m     \u001b[38;5;66;03m# key might be object-dtype bool, check_array_indexer needs bool array\u001b[39;00m\n",
      "\u001b[1;31mIndexingError\u001b[0m: Unalignable boolean Series provided as indexer (index of the boolean Series and of the indexed object do not match)."
     ]
    }
   ],
   "source": [
    "%matplotlib inline\n",
    "df[df['browser_version'].value_counts() < 10]\n",
    "# df = df.drop(df[df['browser_version'] < ].index)"
   ]
  },
  {
   "cell_type": "code",
   "execution_count": 72,
   "metadata": {
    "colab": {
     "base_uri": "https://localhost:8080/"
    },
    "id": "G3GrXOI4kwBf",
    "outputId": "1c732f92-8821-4562-e9bd-32065e882121"
   },
   "outputs": [
    {
     "data": {
      "text/plain": [
       "Index(['request_ts', 'user_id', 'referer', 'geo_id', 'target', 'country_id',\n",
       "       'region_id', 'timezone_id', 'component0', 'component1', 'component2',\n",
       "       'component3', 'component4', 'component5', 'component6', 'component7',\n",
       "       'component8', 'component9', 'browser', 'os', 'browser_version',\n",
       "       'os_version', 'browser_0', 'browser_1', 'browser_2', 'browser_3',\n",
       "       'browser_4', 'browser_5', 'browser_6', 'browser_7', 'browser_8',\n",
       "       'browser_9', 'browser_version_0', 'browser_version_1',\n",
       "       'browser_version_2', 'browser_version_3', 'browser_version_4',\n",
       "       'browser_version_5', 'browser_version_6', 'browser_version_7',\n",
       "       'browser_version_8', 'browser_version_9', 'os_0', 'os_1', 'os_2',\n",
       "       'os_3', 'os_4', 'os_5', 'os_6', 'os_7', 'os_8', 'os_9', 'os_version_0',\n",
       "       'os_version_1', 'os_version_2', 'os_version_3', 'os_version_4',\n",
       "       'os_version_5', 'os_version_6', 'os_version_7', 'os_version_8',\n",
       "       'os_version_9', 'country_0', 'country_1', 'country_2', 'country_3',\n",
       "       'country_4', 'country_5', 'country_6', 'country_7', 'country_8',\n",
       "       'country_9', 'region_0', 'region_1', 'region_2', 'region_3', 'region_4',\n",
       "       'region_5', 'region_6', 'region_7', 'region_8', 'region_9',\n",
       "       'timezone_0', 'timezone_1', 'timezone_2', 'timezone_3', 'timezone_4',\n",
       "       'timezone_5', 'timezone_6', 'timezone_7', 'timezone_8', 'timezone_9'],\n",
       "      dtype='object')"
      ]
     },
     "execution_count": 72,
     "metadata": {},
     "output_type": "execute_result"
    }
   ],
   "source": [
    "df.columns"
   ]
  },
  {
   "cell_type": "code",
   "execution_count": 16,
   "metadata": {
    "id": "Lkx-qEfwl54S"
   },
   "outputs": [],
   "source": [
    "df = df.dropna(subset='target')"
   ]
  },
  {
   "cell_type": "code",
   "execution_count": 17,
   "metadata": {
    "id": "Sy8C4H8hlYUa"
   },
   "outputs": [],
   "source": [
    "from sklearn.model_selection import train_test_split\n",
    "X = df.drop(columns=['target', 'user_id', 'referer', 'request_ts', 'country_id', 'region_id', 'timezone_id', 'os', 'os_version', 'browser', 'browser_version']).values\n",
    "y = df['target']\n",
    "x_train, x_test, y_train, y_test = train_test_split(X, y, test_size = 0.33, random_state = 42)"
   ]
  },
  {
   "cell_type": "code",
   "execution_count": 18,
   "metadata": {},
   "outputs": [
    {
     "data": {
      "text/plain": [
       "Index(['request_ts', 'user_id', 'referer', 'geo_id', 'target', 'country_id',\n",
       "       'region_id', 'timezone_id', 'component0', 'component1', 'component2',\n",
       "       'component3', 'component4', 'component5', 'component6', 'component7',\n",
       "       'component8', 'component9', 'browser', 'os', 'browser_version',\n",
       "       'os_version'],\n",
       "      dtype='object')"
      ]
     },
     "execution_count": 18,
     "metadata": {},
     "output_type": "execute_result"
    }
   ],
   "source": [
    "df.columns"
   ]
  },
  {
   "cell_type": "code",
   "execution_count": 30,
   "metadata": {},
   "outputs": [
    {
     "ename": "ValueError",
     "evalue": "could not convert string to float: 'Chrome Mobile'",
     "output_type": "error",
     "traceback": [
      "\u001b[1;31m---------------------------------------------------------------------------\u001b[0m",
      "\u001b[1;31mValueError\u001b[0m                                Traceback (most recent call last)",
      "Cell \u001b[1;32mIn[30], line 1\u001b[0m\n\u001b[1;32m----> 1\u001b[0m df2 \u001b[38;5;241m=\u001b[39m \u001b[43mdf\u001b[49m\u001b[38;5;241;43m.\u001b[39;49m\u001b[43mdrop\u001b[49m\u001b[43m(\u001b[49m\u001b[43mcolumns\u001b[49m\u001b[38;5;241;43m=\u001b[39;49m\u001b[43m[\u001b[49m\u001b[38;5;124;43m'\u001b[39;49m\u001b[38;5;124;43muser_id\u001b[39;49m\u001b[38;5;124;43m'\u001b[39;49m\u001b[43m,\u001b[49m\u001b[43m \u001b[49m\u001b[38;5;124;43m'\u001b[39;49m\u001b[38;5;124;43mreferer\u001b[39;49m\u001b[38;5;124;43m'\u001b[39;49m\u001b[43m,\u001b[49m\u001b[43m \u001b[49m\u001b[38;5;124;43m'\u001b[39;49m\u001b[38;5;124;43mrequest_ts\u001b[39;49m\u001b[38;5;124;43m'\u001b[39;49m\u001b[43m,\u001b[49m\u001b[43m \u001b[49m\u001b[38;5;124;43m'\u001b[39;49m\u001b[38;5;124;43mcountry_id\u001b[39;49m\u001b[38;5;124;43m'\u001b[39;49m\u001b[43m,\u001b[49m\u001b[43m \u001b[49m\u001b[38;5;124;43m'\u001b[39;49m\u001b[38;5;124;43mregion_id\u001b[39;49m\u001b[38;5;124;43m'\u001b[39;49m\u001b[43m,\u001b[49m\u001b[43m \u001b[49m\u001b[38;5;124;43m'\u001b[39;49m\u001b[38;5;124;43mtimezone_id\u001b[39;49m\u001b[38;5;124;43m'\u001b[39;49m\u001b[43m]\u001b[49m\u001b[43m)\u001b[49m\u001b[38;5;241;43m.\u001b[39;49m\u001b[43mcorr\u001b[49m\u001b[43m(\u001b[49m\u001b[43m)\u001b[49m\n",
      "File \u001b[1;32mC:\\Software\\Python3_9_13\\lib\\site-packages\\pandas\\core\\frame.py:11049\u001b[0m, in \u001b[0;36mDataFrame.corr\u001b[1;34m(self, method, min_periods, numeric_only)\u001b[0m\n\u001b[0;32m  11047\u001b[0m cols \u001b[38;5;241m=\u001b[39m data\u001b[38;5;241m.\u001b[39mcolumns\n\u001b[0;32m  11048\u001b[0m idx \u001b[38;5;241m=\u001b[39m cols\u001b[38;5;241m.\u001b[39mcopy()\n\u001b[1;32m> 11049\u001b[0m mat \u001b[38;5;241m=\u001b[39m \u001b[43mdata\u001b[49m\u001b[38;5;241;43m.\u001b[39;49m\u001b[43mto_numpy\u001b[49m\u001b[43m(\u001b[49m\u001b[43mdtype\u001b[49m\u001b[38;5;241;43m=\u001b[39;49m\u001b[38;5;28;43mfloat\u001b[39;49m\u001b[43m,\u001b[49m\u001b[43m \u001b[49m\u001b[43mna_value\u001b[49m\u001b[38;5;241;43m=\u001b[39;49m\u001b[43mnp\u001b[49m\u001b[38;5;241;43m.\u001b[39;49m\u001b[43mnan\u001b[49m\u001b[43m,\u001b[49m\u001b[43m \u001b[49m\u001b[43mcopy\u001b[49m\u001b[38;5;241;43m=\u001b[39;49m\u001b[38;5;28;43;01mFalse\u001b[39;49;00m\u001b[43m)\u001b[49m\n\u001b[0;32m  11051\u001b[0m \u001b[38;5;28;01mif\u001b[39;00m method \u001b[38;5;241m==\u001b[39m \u001b[38;5;124m\"\u001b[39m\u001b[38;5;124mpearson\u001b[39m\u001b[38;5;124m\"\u001b[39m:\n\u001b[0;32m  11052\u001b[0m     correl \u001b[38;5;241m=\u001b[39m libalgos\u001b[38;5;241m.\u001b[39mnancorr(mat, minp\u001b[38;5;241m=\u001b[39mmin_periods)\n",
      "File \u001b[1;32mC:\\Software\\Python3_9_13\\lib\\site-packages\\pandas\\core\\frame.py:1993\u001b[0m, in \u001b[0;36mDataFrame.to_numpy\u001b[1;34m(self, dtype, copy, na_value)\u001b[0m\n\u001b[0;32m   1991\u001b[0m \u001b[38;5;28;01mif\u001b[39;00m dtype \u001b[38;5;129;01mis\u001b[39;00m \u001b[38;5;129;01mnot\u001b[39;00m \u001b[38;5;28;01mNone\u001b[39;00m:\n\u001b[0;32m   1992\u001b[0m     dtype \u001b[38;5;241m=\u001b[39m np\u001b[38;5;241m.\u001b[39mdtype(dtype)\n\u001b[1;32m-> 1993\u001b[0m result \u001b[38;5;241m=\u001b[39m \u001b[38;5;28;43mself\u001b[39;49m\u001b[38;5;241;43m.\u001b[39;49m\u001b[43m_mgr\u001b[49m\u001b[38;5;241;43m.\u001b[39;49m\u001b[43mas_array\u001b[49m\u001b[43m(\u001b[49m\u001b[43mdtype\u001b[49m\u001b[38;5;241;43m=\u001b[39;49m\u001b[43mdtype\u001b[49m\u001b[43m,\u001b[49m\u001b[43m \u001b[49m\u001b[43mcopy\u001b[49m\u001b[38;5;241;43m=\u001b[39;49m\u001b[43mcopy\u001b[49m\u001b[43m,\u001b[49m\u001b[43m \u001b[49m\u001b[43mna_value\u001b[49m\u001b[38;5;241;43m=\u001b[39;49m\u001b[43mna_value\u001b[49m\u001b[43m)\u001b[49m\n\u001b[0;32m   1994\u001b[0m \u001b[38;5;28;01mif\u001b[39;00m result\u001b[38;5;241m.\u001b[39mdtype \u001b[38;5;129;01mis\u001b[39;00m \u001b[38;5;129;01mnot\u001b[39;00m dtype:\n\u001b[0;32m   1995\u001b[0m     result \u001b[38;5;241m=\u001b[39m np\u001b[38;5;241m.\u001b[39masarray(result, dtype\u001b[38;5;241m=\u001b[39mdtype)\n",
      "File \u001b[1;32mC:\\Software\\Python3_9_13\\lib\\site-packages\\pandas\\core\\internals\\managers.py:1694\u001b[0m, in \u001b[0;36mBlockManager.as_array\u001b[1;34m(self, dtype, copy, na_value)\u001b[0m\n\u001b[0;32m   1692\u001b[0m         arr\u001b[38;5;241m.\u001b[39mflags\u001b[38;5;241m.\u001b[39mwriteable \u001b[38;5;241m=\u001b[39m \u001b[38;5;28;01mFalse\u001b[39;00m\n\u001b[0;32m   1693\u001b[0m \u001b[38;5;28;01melse\u001b[39;00m:\n\u001b[1;32m-> 1694\u001b[0m     arr \u001b[38;5;241m=\u001b[39m \u001b[38;5;28;43mself\u001b[39;49m\u001b[38;5;241;43m.\u001b[39;49m\u001b[43m_interleave\u001b[49m\u001b[43m(\u001b[49m\u001b[43mdtype\u001b[49m\u001b[38;5;241;43m=\u001b[39;49m\u001b[43mdtype\u001b[49m\u001b[43m,\u001b[49m\u001b[43m \u001b[49m\u001b[43mna_value\u001b[49m\u001b[38;5;241;43m=\u001b[39;49m\u001b[43mna_value\u001b[49m\u001b[43m)\u001b[49m\n\u001b[0;32m   1695\u001b[0m     \u001b[38;5;66;03m# The underlying data was copied within _interleave, so no need\u001b[39;00m\n\u001b[0;32m   1696\u001b[0m     \u001b[38;5;66;03m# to further copy if copy=True or setting na_value\u001b[39;00m\n\u001b[0;32m   1698\u001b[0m \u001b[38;5;28;01mif\u001b[39;00m na_value \u001b[38;5;129;01mis\u001b[39;00m lib\u001b[38;5;241m.\u001b[39mno_default:\n",
      "File \u001b[1;32mC:\\Software\\Python3_9_13\\lib\\site-packages\\pandas\\core\\internals\\managers.py:1753\u001b[0m, in \u001b[0;36mBlockManager._interleave\u001b[1;34m(self, dtype, na_value)\u001b[0m\n\u001b[0;32m   1751\u001b[0m     \u001b[38;5;28;01melse\u001b[39;00m:\n\u001b[0;32m   1752\u001b[0m         arr \u001b[38;5;241m=\u001b[39m blk\u001b[38;5;241m.\u001b[39mget_values(dtype)\n\u001b[1;32m-> 1753\u001b[0m     \u001b[43mresult\u001b[49m\u001b[43m[\u001b[49m\u001b[43mrl\u001b[49m\u001b[38;5;241;43m.\u001b[39;49m\u001b[43mindexer\u001b[49m\u001b[43m]\u001b[49m \u001b[38;5;241m=\u001b[39m arr\n\u001b[0;32m   1754\u001b[0m     itemmask[rl\u001b[38;5;241m.\u001b[39mindexer] \u001b[38;5;241m=\u001b[39m \u001b[38;5;241m1\u001b[39m\n\u001b[0;32m   1756\u001b[0m \u001b[38;5;28;01mif\u001b[39;00m \u001b[38;5;129;01mnot\u001b[39;00m itemmask\u001b[38;5;241m.\u001b[39mall():\n",
      "\u001b[1;31mValueError\u001b[0m: could not convert string to float: 'Chrome Mobile'"
     ]
    }
   ],
   "source": [
    "df2 = df.drop(columns=['user_id', 'referer', 'request_ts', 'country_id', 'region_id', 'timezone_id']).corr()"
   ]
  },
  {
   "cell_type": "code",
   "execution_count": null,
   "metadata": {},
   "outputs": [],
   "source": [
    "import matplotlib.pyplot as plt\n",
    "\n",
    "plt.matshow(df2)\n",
    "plt.show()"
   ]
  },
  {
   "cell_type": "code",
   "execution_count": 19,
   "metadata": {},
   "outputs": [],
   "source": [
    "scale = StandardScaler()\n",
    "scaled_x_train = scale.fit_transform(x_train)\n",
    "scaled_x_test = scale.fit_transform(x_test)"
   ]
  },
  {
   "cell_type": "code",
   "execution_count": 20,
   "metadata": {
    "colab": {
     "base_uri": "https://localhost:8080/",
     "height": 372
    },
    "id": "G-0-lCT9nt6K",
    "outputId": "ecea658d-4f54-4cbf-d192-168dd575a24b"
   },
   "outputs": [
    {
     "data": {
      "text/plain": [
       "0.6511423100160774"
      ]
     },
     "execution_count": 20,
     "metadata": {},
     "output_type": "execute_result"
    }
   ],
   "source": [
    "from sklearn.naive_bayes import GaussianNB\n",
    "nb = GaussianNB()\n",
    "result_bayes = nb.fit(scaled_x_train, y_train)\n",
    "nb.score(scaled_x_test,y_test)"
   ]
  },
  {
   "cell_type": "code",
   "execution_count": 21,
   "metadata": {},
   "outputs": [
    {
     "data": {
      "text/plain": [
       "0.6725958239890224"
      ]
     },
     "execution_count": 21,
     "metadata": {},
     "output_type": "execute_result"
    }
   ],
   "source": [
    "from sklearn.linear_model import LogisticRegression\n",
    "logreg = LogisticRegression()\n",
    "result_logreg = logreg.fit(scaled_x_train, y_train)\n",
    "logreg.score(scaled_x_test,y_test)"
   ]
  },
  {
   "cell_type": "code",
   "execution_count": null,
   "metadata": {},
   "outputs": [],
   "source": []
  },
  {
   "cell_type": "code",
   "execution_count": null,
   "metadata": {},
   "outputs": [],
   "source": [
    "from sklearn import svm\n",
    "metodsvm = svm.SVC()\n",
    "result_svm = metodsvm.fit(x_train, y_train)\n",
    "metodsvm.score(x_test, y_test)"
   ]
  },
  {
   "cell_type": "code",
   "execution_count": 22,
   "metadata": {},
   "outputs": [
    {
     "name": "stderr",
     "output_type": "stream",
     "text": [
      "C:\\Users\\User\\AppData\\Local\\Programs\\Python\\Python39\\lib\\site-packages\\sklearn\\ensemble\\_weight_boosting.py:519: FutureWarning: The SAMME.R algorithm (the default) is deprecated and will be removed in 1.6. Use the SAMME algorithm to circumvent this warning.\n",
      "  warnings.warn(\n"
     ]
    },
    {
     "data": {
      "text/plain": [
       "0.7090719179134282"
      ]
     },
     "execution_count": 22,
     "metadata": {},
     "output_type": "execute_result"
    }
   ],
   "source": [
    "#адаптивный бустинг\n",
    "\n",
    "from sklearn.tree import DecisionTreeClassifier\n",
    "from sklearn.model_selection import train_test_split\n",
    "from sklearn.ensemble import AdaBoostClassifier\n",
    "\n",
    "modelClf = AdaBoostClassifier(estimator=DecisionTreeClassifier(max_depth=2), n_estimators=100, random_state=42)\n",
    "modelclf_fit = modelClf.fit(scaled_x_train, y_train)\n",
    "modelClf.score(scaled_x_test, y_test)"
   ]
  },
  {
   "cell_type": "code",
   "execution_count": 23,
   "metadata": {},
   "outputs": [
    {
     "data": {
      "text/plain": [
       "0.7433924200997409"
      ]
     },
     "execution_count": 23,
     "metadata": {},
     "output_type": "execute_result"
    }
   ],
   "source": [
    "from sklearn.ensemble import GradientBoostingClassifier\n",
    "\n",
    "modelClf = GradientBoostingClassifier(max_depth=2, n_estimators=150,random_state=12, learning_rate=1)\n",
    "\n",
    "\n",
    "modelClf.fit(scaled_x_train, y_train)\n",
    "modelClf.score(scaled_x_test, y_test)"
   ]
  },
  {
   "cell_type": "code",
   "execution_count": 89,
   "metadata": {},
   "outputs": [
    {
     "data": {
      "text/plain": [
       "81"
      ]
     },
     "execution_count": 89,
     "metadata": {},
     "output_type": "execute_result"
    }
   ],
   "source": [
    "len(scaled_x_train[0])"
   ]
  },
  {
   "cell_type": "code",
   "execution_count": null,
   "metadata": {},
   "outputs": [],
   "source": []
  },
  {
   "cell_type": "code",
   "execution_count": 24,
   "metadata": {},
   "outputs": [],
   "source": [
    "from keras import models\n",
    "from keras import layers\n",
    "from tensorflow.keras.models import Sequential\n",
    "from tensorflow.keras.layers import Dense"
   ]
  },
  {
   "cell_type": "code",
   "execution_count": 25,
   "metadata": {},
   "outputs": [],
   "source": [
    "model = models.Sequential()\n",
    "model.add(layers.Dense(128,activation='relu',input_shape=(11,)))\n",
    "model.add(layers.Dense(64, activation='relu'))\n",
    "model.add(layers.Dense(1, activation = 'sigmoid'))"
   ]
  },
  {
   "cell_type": "code",
   "execution_count": 26,
   "metadata": {},
   "outputs": [],
   "source": [
    "from keras import optimizers\n",
    "model.compile(optimizer='rmsprop',loss='binary_crossentropy',metrics=['accuracy'])"
   ]
  },
  {
   "cell_type": "code",
   "execution_count": 27,
   "metadata": {},
   "outputs": [
    {
     "name": "stdout",
     "output_type": "stream",
     "text": [
      "Epoch 1/40\n",
      "775/775 [==============================] - 2s 2ms/step - loss: 0.5436 - accuracy: 0.7273 - val_loss: 0.5338 - val_accuracy: 0.7338\n",
      "Epoch 2/40\n",
      "775/775 [==============================] - 1s 2ms/step - loss: 0.5275 - accuracy: 0.7405 - val_loss: 0.5265 - val_accuracy: 0.7395\n",
      "Epoch 3/40\n",
      "775/775 [==============================] - 2s 2ms/step - loss: 0.5224 - accuracy: 0.7456 - val_loss: 0.5236 - val_accuracy: 0.7451\n",
      "Epoch 4/40\n",
      "775/775 [==============================] - 2s 2ms/step - loss: 0.5189 - accuracy: 0.7492 - val_loss: 0.5217 - val_accuracy: 0.7454\n",
      "Epoch 5/40\n",
      "775/775 [==============================] - 1s 2ms/step - loss: 0.5165 - accuracy: 0.7516 - val_loss: 0.5208 - val_accuracy: 0.7469\n",
      "Epoch 6/40\n",
      "775/775 [==============================] - 2s 2ms/step - loss: 0.5147 - accuracy: 0.7533 - val_loss: 0.5181 - val_accuracy: 0.7500\n",
      "Epoch 7/40\n",
      "775/775 [==============================] - 2s 2ms/step - loss: 0.5134 - accuracy: 0.7543 - val_loss: 0.5160 - val_accuracy: 0.7535\n",
      "Epoch 8/40\n",
      "775/775 [==============================] - 2s 2ms/step - loss: 0.5121 - accuracy: 0.7553 - val_loss: 0.5164 - val_accuracy: 0.7521\n",
      "Epoch 9/40\n",
      "775/775 [==============================] - 2s 2ms/step - loss: 0.5112 - accuracy: 0.7564 - val_loss: 0.5135 - val_accuracy: 0.7515\n",
      "Epoch 10/40\n",
      "775/775 [==============================] - 2s 2ms/step - loss: 0.5101 - accuracy: 0.7573 - val_loss: 0.5143 - val_accuracy: 0.7528\n",
      "Epoch 11/40\n",
      "775/775 [==============================] - 2s 2ms/step - loss: 0.5094 - accuracy: 0.7574 - val_loss: 0.5133 - val_accuracy: 0.7552\n",
      "Epoch 12/40\n",
      "775/775 [==============================] - 2s 2ms/step - loss: 0.5086 - accuracy: 0.7578 - val_loss: 0.5127 - val_accuracy: 0.7562\n",
      "Epoch 13/40\n",
      "775/775 [==============================] - 2s 2ms/step - loss: 0.5080 - accuracy: 0.7587 - val_loss: 0.5151 - val_accuracy: 0.7574\n",
      "Epoch 14/40\n",
      "775/775 [==============================] - 2s 2ms/step - loss: 0.5074 - accuracy: 0.7599 - val_loss: 0.5124 - val_accuracy: 0.7543\n",
      "Epoch 15/40\n",
      "775/775 [==============================] - 2s 2ms/step - loss: 0.5068 - accuracy: 0.7596 - val_loss: 0.5147 - val_accuracy: 0.7517\n",
      "Epoch 16/40\n",
      "775/775 [==============================] - 2s 2ms/step - loss: 0.5063 - accuracy: 0.7597 - val_loss: 0.5107 - val_accuracy: 0.7575\n",
      "Epoch 17/40\n",
      "775/775 [==============================] - 2s 2ms/step - loss: 0.5058 - accuracy: 0.7602 - val_loss: 0.5108 - val_accuracy: 0.7562\n",
      "Epoch 18/40\n",
      "775/775 [==============================] - 2s 2ms/step - loss: 0.5055 - accuracy: 0.7606 - val_loss: 0.5105 - val_accuracy: 0.7579\n",
      "Epoch 19/40\n",
      "775/775 [==============================] - 2s 2ms/step - loss: 0.5052 - accuracy: 0.7605 - val_loss: 0.5115 - val_accuracy: 0.7580\n",
      "Epoch 20/40\n",
      "775/775 [==============================] - 2s 2ms/step - loss: 0.5048 - accuracy: 0.7614 - val_loss: 0.5084 - val_accuracy: 0.7594\n",
      "Epoch 21/40\n",
      "775/775 [==============================] - 2s 2ms/step - loss: 0.5043 - accuracy: 0.7618 - val_loss: 0.5103 - val_accuracy: 0.7564\n",
      "Epoch 22/40\n",
      "775/775 [==============================] - 2s 2ms/step - loss: 0.5040 - accuracy: 0.7617 - val_loss: 0.5097 - val_accuracy: 0.7557\n",
      "Epoch 23/40\n",
      "775/775 [==============================] - 2s 2ms/step - loss: 0.5037 - accuracy: 0.7616 - val_loss: 0.5111 - val_accuracy: 0.7558\n",
      "Epoch 24/40\n",
      "775/775 [==============================] - 2s 2ms/step - loss: 0.5033 - accuracy: 0.7618 - val_loss: 0.5112 - val_accuracy: 0.7577\n",
      "Epoch 25/40\n",
      "775/775 [==============================] - 2s 2ms/step - loss: 0.5030 - accuracy: 0.7619 - val_loss: 0.5091 - val_accuracy: 0.7592\n",
      "Epoch 26/40\n",
      "775/775 [==============================] - 2s 2ms/step - loss: 0.5027 - accuracy: 0.7624 - val_loss: 0.5108 - val_accuracy: 0.7572\n",
      "Epoch 27/40\n",
      "775/775 [==============================] - 2s 3ms/step - loss: 0.5025 - accuracy: 0.7626 - val_loss: 0.5082 - val_accuracy: 0.7599\n",
      "Epoch 28/40\n",
      "775/775 [==============================] - 2s 2ms/step - loss: 0.5021 - accuracy: 0.7625 - val_loss: 0.5111 - val_accuracy: 0.7579\n",
      "Epoch 29/40\n",
      "775/775 [==============================] - 2s 2ms/step - loss: 0.5019 - accuracy: 0.7632 - val_loss: 0.5073 - val_accuracy: 0.7588\n",
      "Epoch 30/40\n",
      "775/775 [==============================] - 2s 2ms/step - loss: 0.5017 - accuracy: 0.7632 - val_loss: 0.5071 - val_accuracy: 0.7597\n",
      "Epoch 31/40\n",
      "775/775 [==============================] - 2s 2ms/step - loss: 0.5014 - accuracy: 0.7636 - val_loss: 0.5065 - val_accuracy: 0.7597\n",
      "Epoch 32/40\n",
      "775/775 [==============================] - 2s 2ms/step - loss: 0.5012 - accuracy: 0.7635 - val_loss: 0.5085 - val_accuracy: 0.7566\n",
      "Epoch 33/40\n",
      "775/775 [==============================] - 2s 2ms/step - loss: 0.5011 - accuracy: 0.7637 - val_loss: 0.5064 - val_accuracy: 0.7599\n",
      "Epoch 34/40\n",
      "775/775 [==============================] - 2s 2ms/step - loss: 0.5008 - accuracy: 0.7646 - val_loss: 0.5076 - val_accuracy: 0.7589\n",
      "Epoch 35/40\n",
      "775/775 [==============================] - 2s 3ms/step - loss: 0.5008 - accuracy: 0.7640 - val_loss: 0.5083 - val_accuracy: 0.7594\n",
      "Epoch 36/40\n",
      "775/775 [==============================] - 2s 3ms/step - loss: 0.5004 - accuracy: 0.7645 - val_loss: 0.5090 - val_accuracy: 0.7604\n",
      "Epoch 37/40\n",
      "775/775 [==============================] - 2s 3ms/step - loss: 0.5001 - accuracy: 0.7649 - val_loss: 0.5093 - val_accuracy: 0.7554\n",
      "Epoch 38/40\n",
      "775/775 [==============================] - 2s 3ms/step - loss: 0.5000 - accuracy: 0.7649 - val_loss: 0.5094 - val_accuracy: 0.7595\n",
      "Epoch 39/40\n",
      "775/775 [==============================] - 2s 3ms/step - loss: 0.4999 - accuracy: 0.7650 - val_loss: 0.5076 - val_accuracy: 0.7600\n",
      "Epoch 40/40\n",
      "775/775 [==============================] - 2s 3ms/step - loss: 0.4997 - accuracy: 0.7648 - val_loss: 0.5074 - val_accuracy: 0.7603\n"
     ]
    }
   ],
   "source": [
    "history=model.fit(scaled_x_train, y_train, epochs=40,batch_size=512,validation_data=(scaled_x_test,y_test))"
   ]
  },
  {
   "cell_type": "code",
   "execution_count": 59,
   "metadata": {},
   "outputs": [
    {
     "ename": "NameError",
     "evalue": "name 'dict_keys' is not defined",
     "output_type": "error",
     "traceback": [
      "\u001b[1;31m---------------------------------------------------------------------------\u001b[0m",
      "\u001b[1;31mNameError\u001b[0m                                 Traceback (most recent call last)",
      "Cell \u001b[1;32mIn[59], line 3\u001b[0m\n\u001b[0;32m      1\u001b[0m history_dict \u001b[38;5;241m=\u001b[39m history\u001b[38;5;241m.\u001b[39mhistory\n\u001b[0;32m      2\u001b[0m history_dict\u001b[38;5;241m.\u001b[39mkeys()\n\u001b[1;32m----> 3\u001b[0m \u001b[43mdict_keys\u001b[49m([\u001b[38;5;124m'\u001b[39m\u001b[38;5;124mloss\u001b[39m\u001b[38;5;124m'\u001b[39m, \u001b[38;5;124m'\u001b[39m\u001b[38;5;124maccuracy\u001b[39m\u001b[38;5;124m'\u001b[39m, \u001b[38;5;124m'\u001b[39m\u001b[38;5;124mval_loss\u001b[39m\u001b[38;5;124m'\u001b[39m, \u001b[38;5;124m'\u001b[39m\u001b[38;5;124mval_accuracy\u001b[39m\u001b[38;5;124m'\u001b[39m])\n",
      "\u001b[1;31mNameError\u001b[0m: name 'dict_keys' is not defined"
     ]
    }
   ],
   "source": [
    "history_dict = history.history\n",
    "history_dict.keys()\n",
    "dict_keys(['loss', 'accuracy', 'val_loss', 'val_accuracy'])"
   ]
  },
  {
   "cell_type": "markdown",
   "metadata": {},
   "source": [
    "## Preprocessing for tests"
   ]
  },
  {
   "cell_type": "code",
   "execution_count": 28,
   "metadata": {},
   "outputs": [
    {
     "name": "stdout",
     "output_type": "stream",
     "text": [
      "<class 'pandas.core.frame.DataFrame'>\n",
      "Int64Index: 149737 entries, 0 to 149999\n",
      "Data columns (total 5 columns):\n",
      " #   Column      Non-Null Count   Dtype \n",
      "---  ------      --------------   ----- \n",
      " 0   request_ts  149737 non-null  int64 \n",
      " 1   user_id     149737 non-null  object\n",
      " 2   referer     149737 non-null  object\n",
      " 3   geo_id      149737 non-null  int64 \n",
      " 4   user_agent  149737 non-null  object\n",
      "dtypes: int64(2), object(3)\n",
      "memory usage: 6.9+ MB\n"
     ]
    }
   ],
   "source": [
    "df_test = pd.read_csv('test.csv', delimiter=';').drop_duplicates()\n",
    "df_test.info()"
   ]
  },
  {
   "cell_type": "code",
   "execution_count": 29,
   "metadata": {},
   "outputs": [],
   "source": [
    "geo_id = pd.read_csv('geo_info.csv', delimiter=';')\n",
    "df_test = df_test.join(geo_id.set_index('geo_id'), on='geo_id')"
   ]
  },
  {
   "cell_type": "code",
   "execution_count": 30,
   "metadata": {},
   "outputs": [],
   "source": [
    "referer = pd.read_csv('referer_vectors.csv', delimiter=';').drop_duplicates()\n",
    "df_test = df_test.join(referer.set_index('referer'), on='referer')"
   ]
  },
  {
   "cell_type": "code",
   "execution_count": 33,
   "metadata": {},
   "outputs": [
    {
     "data": {
      "text/html": [
       "<div>\n",
       "<style scoped>\n",
       "    .dataframe tbody tr th:only-of-type {\n",
       "        vertical-align: middle;\n",
       "    }\n",
       "\n",
       "    .dataframe tbody tr th {\n",
       "        vertical-align: top;\n",
       "    }\n",
       "\n",
       "    .dataframe thead th {\n",
       "        text-align: right;\n",
       "    }\n",
       "</style>\n",
       "<table border=\"1\" class=\"dataframe\">\n",
       "  <thead>\n",
       "    <tr style=\"text-align: right;\">\n",
       "      <th></th>\n",
       "      <th>request_ts</th>\n",
       "      <th>user_id</th>\n",
       "      <th>referer</th>\n",
       "      <th>geo_id</th>\n",
       "      <th>country_id</th>\n",
       "      <th>region_id</th>\n",
       "      <th>timezone_id</th>\n",
       "      <th>component0</th>\n",
       "      <th>component1</th>\n",
       "      <th>component2</th>\n",
       "      <th>...</th>\n",
       "      <th>component4</th>\n",
       "      <th>component5</th>\n",
       "      <th>component6</th>\n",
       "      <th>component7</th>\n",
       "      <th>component8</th>\n",
       "      <th>component9</th>\n",
       "      <th>browser</th>\n",
       "      <th>os</th>\n",
       "      <th>browser_version</th>\n",
       "      <th>os_version</th>\n",
       "    </tr>\n",
       "  </thead>\n",
       "  <tbody>\n",
       "    <tr>\n",
       "      <th>0</th>\n",
       "      <td>1700993094</td>\n",
       "      <td>c2802dadd33d8ae09bb366bdd41212ea</td>\n",
       "      <td>https://9b48ee5/</td>\n",
       "      <td>8816</td>\n",
       "      <td>c31b4e</td>\n",
       "      <td>36e3f3</td>\n",
       "      <td>f6155e</td>\n",
       "      <td>11731</td>\n",
       "      <td>4045</td>\n",
       "      <td>22213</td>\n",
       "      <td>...</td>\n",
       "      <td>-8992</td>\n",
       "      <td>9381</td>\n",
       "      <td>-3496</td>\n",
       "      <td>-3120</td>\n",
       "      <td>-899</td>\n",
       "      <td>16817</td>\n",
       "      <td>Chrome Mobile</td>\n",
       "      <td>Android</td>\n",
       "      <td>96.0.4664</td>\n",
       "      <td>12</td>\n",
       "    </tr>\n",
       "    <tr>\n",
       "      <th>1</th>\n",
       "      <td>1701005579</td>\n",
       "      <td>e5b1988db74527ec092f28b0bbfdaac9</td>\n",
       "      <td>https://9b48ee5/</td>\n",
       "      <td>3663</td>\n",
       "      <td>c31b4e</td>\n",
       "      <td>8ccc01</td>\n",
       "      <td>e56e80</td>\n",
       "      <td>11731</td>\n",
       "      <td>4045</td>\n",
       "      <td>22213</td>\n",
       "      <td>...</td>\n",
       "      <td>-8992</td>\n",
       "      <td>9381</td>\n",
       "      <td>-3496</td>\n",
       "      <td>-3120</td>\n",
       "      <td>-899</td>\n",
       "      <td>16817</td>\n",
       "      <td>Chrome</td>\n",
       "      <td>Android</td>\n",
       "      <td>116.0.5845</td>\n",
       "      <td>10</td>\n",
       "    </tr>\n",
       "    <tr>\n",
       "      <th>2</th>\n",
       "      <td>1700969752</td>\n",
       "      <td>6ef1eedbdb72554e53e69782066065c5</td>\n",
       "      <td>https://72879b4/12411b9e</td>\n",
       "      <td>2336</td>\n",
       "      <td>c31b4e</td>\n",
       "      <td>1fbfa5</td>\n",
       "      <td>e56e80</td>\n",
       "      <td>-7307</td>\n",
       "      <td>11682</td>\n",
       "      <td>9741</td>\n",
       "      <td>...</td>\n",
       "      <td>13577</td>\n",
       "      <td>1200</td>\n",
       "      <td>10169</td>\n",
       "      <td>16461</td>\n",
       "      <td>-3932</td>\n",
       "      <td>3340</td>\n",
       "      <td>Chrome</td>\n",
       "      <td>Android</td>\n",
       "      <td>114.0.0</td>\n",
       "      <td>10</td>\n",
       "    </tr>\n",
       "    <tr>\n",
       "      <th>3</th>\n",
       "      <td>1700991608</td>\n",
       "      <td>7e057293ecae62985a327b7af51858ea</td>\n",
       "      <td>https://9b48ee5/</td>\n",
       "      <td>9652</td>\n",
       "      <td>c31b4e</td>\n",
       "      <td>f66ff</td>\n",
       "      <td>f6155e</td>\n",
       "      <td>11731</td>\n",
       "      <td>4045</td>\n",
       "      <td>22213</td>\n",
       "      <td>...</td>\n",
       "      <td>-8992</td>\n",
       "      <td>9381</td>\n",
       "      <td>-3496</td>\n",
       "      <td>-3120</td>\n",
       "      <td>-899</td>\n",
       "      <td>16817</td>\n",
       "      <td>Chrome Mobile</td>\n",
       "      <td>Android</td>\n",
       "      <td>91.0.4472</td>\n",
       "      <td>11</td>\n",
       "    </tr>\n",
       "    <tr>\n",
       "      <th>4</th>\n",
       "      <td>1701019815</td>\n",
       "      <td>a27bd7ce8828497823fa8d5d05e7bbf7</td>\n",
       "      <td>https://9b48ee5/</td>\n",
       "      <td>3871</td>\n",
       "      <td>c31b4e</td>\n",
       "      <td>245864</td>\n",
       "      <td>e56e80</td>\n",
       "      <td>11731</td>\n",
       "      <td>4045</td>\n",
       "      <td>22213</td>\n",
       "      <td>...</td>\n",
       "      <td>-8992</td>\n",
       "      <td>9381</td>\n",
       "      <td>-3496</td>\n",
       "      <td>-3120</td>\n",
       "      <td>-899</td>\n",
       "      <td>16817</td>\n",
       "      <td>Chrome Mobile</td>\n",
       "      <td>Android</td>\n",
       "      <td>119.0.0</td>\n",
       "      <td>10</td>\n",
       "    </tr>\n",
       "  </tbody>\n",
       "</table>\n",
       "<p>5 rows × 21 columns</p>\n",
       "</div>"
      ],
      "text/plain": [
       "   request_ts                           user_id                   referer  \\\n",
       "0  1700993094  c2802dadd33d8ae09bb366bdd41212ea          https://9b48ee5/   \n",
       "1  1701005579  e5b1988db74527ec092f28b0bbfdaac9          https://9b48ee5/   \n",
       "2  1700969752  6ef1eedbdb72554e53e69782066065c5  https://72879b4/12411b9e   \n",
       "3  1700991608  7e057293ecae62985a327b7af51858ea          https://9b48ee5/   \n",
       "4  1701019815  a27bd7ce8828497823fa8d5d05e7bbf7          https://9b48ee5/   \n",
       "\n",
       "   geo_id country_id region_id timezone_id  component0  component1  \\\n",
       "0    8816     c31b4e    36e3f3      f6155e       11731        4045   \n",
       "1    3663     c31b4e    8ccc01      e56e80       11731        4045   \n",
       "2    2336     c31b4e    1fbfa5      e56e80       -7307       11682   \n",
       "3    9652     c31b4e     f66ff      f6155e       11731        4045   \n",
       "4    3871     c31b4e    245864      e56e80       11731        4045   \n",
       "\n",
       "   component2  ...  component4  component5  component6  component7  \\\n",
       "0       22213  ...       -8992        9381       -3496       -3120   \n",
       "1       22213  ...       -8992        9381       -3496       -3120   \n",
       "2        9741  ...       13577        1200       10169       16461   \n",
       "3       22213  ...       -8992        9381       -3496       -3120   \n",
       "4       22213  ...       -8992        9381       -3496       -3120   \n",
       "\n",
       "   component8  component9        browser       os browser_version os_version  \n",
       "0        -899       16817  Chrome Mobile  Android       96.0.4664         12  \n",
       "1        -899       16817         Chrome  Android      116.0.5845         10  \n",
       "2       -3932        3340         Chrome  Android         114.0.0         10  \n",
       "3        -899       16817  Chrome Mobile  Android       91.0.4472         11  \n",
       "4        -899       16817  Chrome Mobile  Android         119.0.0         10  \n",
       "\n",
       "[5 rows x 21 columns]"
      ]
     },
     "execution_count": 33,
     "metadata": {},
     "output_type": "execute_result"
    }
   ],
   "source": [
    "def extract_user_agent_info(user_agent_str):\n",
    "    try:\n",
    "        user_agent_dict = eval(user_agent_str)\n",
    "        browser = user_agent_dict.get('browser', 'Unknown')\n",
    "        os = user_agent_dict.get('os', 'Unknown')\n",
    "        browser_version = user_agent_dict.get('browser_version', 'Unknown')\n",
    "        os_version = user_agent_dict.get('os_version', 'Unknown')\n",
    "        return pd.Series([browser, os, browser_version, os_version])\n",
    "    except:\n",
    "        return pd.Series(['Unknown', 'Unknown', 'Unknown', 'Unknown'])\n",
    "df_test[['browser', 'os', 'browser_version', 'os_version']] = df_test['user_agent'].apply(extract_user_agent_info)\n",
    "\n",
    "df_test = df_test.drop(columns=['user_agent'])\n",
    "df_test.head()"
   ]
  },
  {
   "cell_type": "code",
   "execution_count": 100,
   "metadata": {},
   "outputs": [],
   "source": [
    "browser_dummies = pd.get_dummies(df_test['browser'], dtype=float, prefix='browser_')\n",
    "browser_version_dummies = pd.get_dummies(df_test['browser_version'], dtype=float, prefix='browser_version')\n",
    "os_dummies = pd.get_dummies(df_test['os'], dtype=float, prefix='os_')\n",
    "os_version_dummies = pd.get_dummies(df_test['os_version'], dtype=float, prefix='os_version')"
   ]
  },
  {
   "cell_type": "code",
   "execution_count": 101,
   "metadata": {},
   "outputs": [],
   "source": [
    "country_dummies = pd.get_dummies(df_test['country_id'], dtype=float, prefix='country_')\n",
    "region_dummies = pd.get_dummies(df_test['region_id'], dtype=float, prefix='region')\n",
    "timezone_dummies = pd.get_dummies(df_test['timezone_id'], dtype=float, prefix='timezone_')"
   ]
  },
  {
   "cell_type": "code",
   "execution_count": 102,
   "metadata": {},
   "outputs": [],
   "source": [
    "pca = PCA(n_components=10)\n",
    "country_dummies = pd.DataFrame(data=pca.fit_transform(country_dummies), index=df_test.index, columns=[f'country_{i}' for i in range(10)])\n",
    "pca = PCA(n_components=10)\n",
    "region_dummies = pd.DataFrame(data=pca.fit_transform(region_dummies), index=df_test.index, columns=[f'region_{i}' for i in range(10)])\n",
    "pca = PCA(n_components=10)\n",
    "timezone_dummies = pd.DataFrame(data=pca.fit_transform(timezone_dummies), index=df_test.index, columns=[f'timezone_{i}' for i in range(10)])\n",
    "df_test = df_test.join(country_dummies).join(region_dummies).join(timezone_dummies)"
   ]
  },
  {
   "cell_type": "code",
   "execution_count": 103,
   "metadata": {},
   "outputs": [],
   "source": [
    "from sklearn.decomposition import PCA\n",
    "pca = PCA(n_components=10)\n",
    "browser_dummies = pd.DataFrame(data=pca.fit_transform(browser_dummies), index=df_test.index, columns=[f'browser_{i}' for i in range(10)])\n",
    "pca = PCA(n_components=10)\n",
    "browser_version_dummies = pd.DataFrame(data=pca.fit_transform(browser_version_dummies), index=df_test.index, columns=[f'browser_version_{i}' for i in range(10)])\n",
    "pca = PCA(n_components=10)\n",
    "os_dummies = pd.DataFrame(data=pca.fit_transform(os_dummies), index=df_test.index, columns=[f'os_{i}' for i in range(10)])\n",
    "pca = PCA(n_components=10)\n",
    "os_version_dummies = pd.DataFrame(data=pca.fit_transform(os_version_dummies), index=df_test.index, columns=[f'os_version_{i}' for i in range(10)])\n",
    "df_test = df_test.join(browser_dummies).join(browser_version_dummies).join(os_dummies).join(os_version_dummies)"
   ]
  },
  {
   "cell_type": "code",
   "execution_count": 34,
   "metadata": {},
   "outputs": [],
   "source": [
    "from sklearn.model_selection import train_test_split\n",
    "X = df_test.drop(columns=['user_id', 'referer', 'request_ts', 'country_id', 'region_id', 'timezone_id', 'os', 'os_version', 'browser', 'browser_version']).values"
   ]
  },
  {
   "cell_type": "code",
   "execution_count": 35,
   "metadata": {},
   "outputs": [],
   "source": [
    "scale = StandardScaler()\n",
    "scaled_X = scale.fit_transform(X)"
   ]
  },
  {
   "cell_type": "code",
   "execution_count": 111,
   "metadata": {},
   "outputs": [
    {
     "data": {
      "text/plain": [
       "array([0., 0., 0., ..., 1., 0., 1.], dtype=float32)"
      ]
     },
     "execution_count": 111,
     "metadata": {},
     "output_type": "execute_result"
    }
   ],
   "source": [
    "preds.flatten() "
   ]
  },
  {
   "cell_type": "code",
   "execution_count": 40,
   "metadata": {},
   "outputs": [],
   "source": [
    "preds = modelClf.predict(scaled_X)\n",
    "result = pd.DataFrame({'user_id': df_test['user_id'], 'target': preds.flatten().astype('int64')})"
   ]
  },
  {
   "cell_type": "code",
   "execution_count": 41,
   "metadata": {},
   "outputs": [
    {
     "data": {
      "text/html": [
       "<div>\n",
       "<style scoped>\n",
       "    .dataframe tbody tr th:only-of-type {\n",
       "        vertical-align: middle;\n",
       "    }\n",
       "\n",
       "    .dataframe tbody tr th {\n",
       "        vertical-align: top;\n",
       "    }\n",
       "\n",
       "    .dataframe thead th {\n",
       "        text-align: right;\n",
       "    }\n",
       "</style>\n",
       "<table border=\"1\" class=\"dataframe\">\n",
       "  <thead>\n",
       "    <tr style=\"text-align: right;\">\n",
       "      <th></th>\n",
       "      <th>user_id</th>\n",
       "      <th>target</th>\n",
       "    </tr>\n",
       "  </thead>\n",
       "  <tbody>\n",
       "    <tr>\n",
       "      <th>0</th>\n",
       "      <td>c2802dadd33d8ae09bb366bdd41212ea</td>\n",
       "      <td>0</td>\n",
       "    </tr>\n",
       "    <tr>\n",
       "      <th>1</th>\n",
       "      <td>e5b1988db74527ec092f28b0bbfdaac9</td>\n",
       "      <td>0</td>\n",
       "    </tr>\n",
       "    <tr>\n",
       "      <th>2</th>\n",
       "      <td>6ef1eedbdb72554e53e69782066065c5</td>\n",
       "      <td>0</td>\n",
       "    </tr>\n",
       "    <tr>\n",
       "      <th>3</th>\n",
       "      <td>7e057293ecae62985a327b7af51858ea</td>\n",
       "      <td>0</td>\n",
       "    </tr>\n",
       "    <tr>\n",
       "      <th>4</th>\n",
       "      <td>a27bd7ce8828497823fa8d5d05e7bbf7</td>\n",
       "      <td>0</td>\n",
       "    </tr>\n",
       "  </tbody>\n",
       "</table>\n",
       "</div>"
      ],
      "text/plain": [
       "                            user_id  target\n",
       "0  c2802dadd33d8ae09bb366bdd41212ea       0\n",
       "1  e5b1988db74527ec092f28b0bbfdaac9       0\n",
       "2  6ef1eedbdb72554e53e69782066065c5       0\n",
       "3  7e057293ecae62985a327b7af51858ea       0\n",
       "4  a27bd7ce8828497823fa8d5d05e7bbf7       0"
      ]
     },
     "execution_count": 41,
     "metadata": {},
     "output_type": "execute_result"
    }
   ],
   "source": [
    "result.head()"
   ]
  },
  {
   "cell_type": "code",
   "execution_count": 42,
   "metadata": {},
   "outputs": [],
   "source": [
    "result.to_csv(\"finale.csv\", index=False, sep=';')"
   ]
  },
  {
   "cell_type": "code",
   "execution_count": 43,
   "metadata": {},
   "outputs": [
    {
     "data": {
      "text/html": [
       "<div>\n",
       "<style scoped>\n",
       "    .dataframe tbody tr th:only-of-type {\n",
       "        vertical-align: middle;\n",
       "    }\n",
       "\n",
       "    .dataframe tbody tr th {\n",
       "        vertical-align: top;\n",
       "    }\n",
       "\n",
       "    .dataframe thead th {\n",
       "        text-align: right;\n",
       "    }\n",
       "</style>\n",
       "<table border=\"1\" class=\"dataframe\">\n",
       "  <thead>\n",
       "    <tr style=\"text-align: right;\">\n",
       "      <th></th>\n",
       "      <th>user_id</th>\n",
       "      <th>target</th>\n",
       "    </tr>\n",
       "  </thead>\n",
       "  <tbody>\n",
       "    <tr>\n",
       "      <th>0</th>\n",
       "      <td>c2802dadd33d8ae09bb366bdd41212ea</td>\n",
       "      <td>0</td>\n",
       "    </tr>\n",
       "    <tr>\n",
       "      <th>1</th>\n",
       "      <td>e5b1988db74527ec092f28b0bbfdaac9</td>\n",
       "      <td>0</td>\n",
       "    </tr>\n",
       "    <tr>\n",
       "      <th>2</th>\n",
       "      <td>6ef1eedbdb72554e53e69782066065c5</td>\n",
       "      <td>0</td>\n",
       "    </tr>\n",
       "    <tr>\n",
       "      <th>3</th>\n",
       "      <td>7e057293ecae62985a327b7af51858ea</td>\n",
       "      <td>0</td>\n",
       "    </tr>\n",
       "    <tr>\n",
       "      <th>4</th>\n",
       "      <td>a27bd7ce8828497823fa8d5d05e7bbf7</td>\n",
       "      <td>0</td>\n",
       "    </tr>\n",
       "  </tbody>\n",
       "</table>\n",
       "</div>"
      ],
      "text/plain": [
       "                            user_id  target\n",
       "0  c2802dadd33d8ae09bb366bdd41212ea       0\n",
       "1  e5b1988db74527ec092f28b0bbfdaac9       0\n",
       "2  6ef1eedbdb72554e53e69782066065c5       0\n",
       "3  7e057293ecae62985a327b7af51858ea       0\n",
       "4  a27bd7ce8828497823fa8d5d05e7bbf7       0"
      ]
     },
     "execution_count": 43,
     "metadata": {},
     "output_type": "execute_result"
    }
   ],
   "source": [
    "pd.read_csv('finale.csv', delimiter=';').head()"
   ]
  },
  {
   "cell_type": "code",
   "execution_count": null,
   "metadata": {},
   "outputs": [],
   "source": []
  }
 ],
 "metadata": {
  "colab": {
   "provenance": []
  },
  "kernelspec": {
   "display_name": "Python 3 (ipykernel)",
   "language": "python",
   "name": "python3"
  },
  "language_info": {
   "codemirror_mode": {
    "name": "ipython",
    "version": 3
   },
   "file_extension": ".py",
   "mimetype": "text/x-python",
   "name": "python",
   "nbconvert_exporter": "python",
   "pygments_lexer": "ipython3",
   "version": "3.9.2"
  }
 },
 "nbformat": 4,
 "nbformat_minor": 4
}
